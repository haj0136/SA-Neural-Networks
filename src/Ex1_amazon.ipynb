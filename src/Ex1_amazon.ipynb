{
  "nbformat": 4,
  "nbformat_minor": 0,
  "metadata": {
    "colab": {
      "name": "Ex1_amazon.ipynb",
      "provenance": [],
      "collapsed_sections": []
    },
    "kernelspec": {
      "name": "python3",
      "display_name": "Python 3"
    },
    "pycharm": {
      "stem_cell": {
        "cell_type": "raw",
        "source": [],
        "metadata": {
          "collapsed": false
        }
      }
    },
    "accelerator": "GPU"
  },
  "cells": [
    {
      "cell_type": "markdown",
      "metadata": {
        "id": "QSeXzYiT8Q2y",
        "colab_type": "text",
        "pycharm": {
          "name": "#%% md\n"
        }
      },
      "source": [
        "# Imports"
      ]
    },
    {
      "cell_type": "code",
      "metadata": {
        "id": "HibgsBc0tVH8",
        "colab_type": "code",
        "colab": {}
      },
      "source": [
        "import pandas as pd\n",
        "import numpy as np\n",
        "import tensorflow.compat.v2 as tf \n",
        "import tensorflow.keras as keras\n",
        "from keras.preprocessing.text import Tokenizer\n",
        "from keras.preprocessing.sequence import pad_sequences\n",
        "from sklearn.model_selection import StratifiedKFold\n",
        "import matplotlib.pyplot as plt\n",
        "import seaborn as sb\n",
        "\n",
        "tf.version.VERSION"
      ],
      "execution_count": 0,
      "outputs": []
    },
    {
      "cell_type": "code",
      "metadata": {
        "id": "Srq5R1RyGy1K",
        "colab_type": "code",
        "colab": {}
      },
      "source": [
        "# Function to show train history\n",
        "\n",
        "def show_history(history):\n",
        "    plt.figure()\n",
        "    for key in history.history.keys():\n",
        "        plt.plot(history.epoch, history.history[key], label=key)\n",
        "    plt.legend()\n",
        "    plt.tight_layout()"
      ],
      "execution_count": 0,
      "outputs": []
    },
    {
      "cell_type": "markdown",
      "metadata": {
        "id": "nmBejzIk8YVk",
        "colab_type": "text"
      },
      "source": [
        "## Load data\n",
        "### Train data"
      ]
    },
    {
      "cell_type": "code",
      "metadata": {
        "id": "J2b9cEav8aKL",
        "colab_type": "code",
        "outputId": "faf4b023-5601-4538-a01c-c4dd858c0f39",
        "colab": {
          "base_uri": "https://localhost:8080/",
          "height": 442
        }
      },
      "source": [
        "path = \"../data/AmazonTrainSet1M.tsv\"\n",
        "amazonData = pd.read_csv(path, sep='\\t', header=0, encoding=\"utf-8\")\n",
        "row_sizes = amazonData['SentimentText'].str.split().str.len()\n",
        "amazonData['SentimentText'] = amazonData['SentimentText'].str.lower()\n",
        "print(f\"Words count: {pd.Series.sum(row_sizes)}\")\n",
        "amazonData"
      ],
      "execution_count": 4,
      "outputs": [
        {
          "output_type": "stream",
          "text": [
            "Words count: 78450202\n"
          ],
          "name": "stdout"
        },
        {
          "output_type": "execute_result",
          "data": {
            "text/html": [
              "<div>\n",
              "<style scoped>\n",
              "    .dataframe tbody tr th:only-of-type {\n",
              "        vertical-align: middle;\n",
              "    }\n",
              "\n",
              "    .dataframe tbody tr th {\n",
              "        vertical-align: top;\n",
              "    }\n",
              "\n",
              "    .dataframe thead th {\n",
              "        text-align: right;\n",
              "    }\n",
              "</style>\n",
              "<table border=\"1\" class=\"dataframe\">\n",
              "  <thead>\n",
              "    <tr style=\"text-align: right;\">\n",
              "      <th></th>\n",
              "      <th>Sentiment</th>\n",
              "      <th>SentimentText</th>\n",
              "    </tr>\n",
              "  </thead>\n",
              "  <tbody>\n",
              "    <tr>\n",
              "      <th>0</th>\n",
              "      <td>0</td>\n",
              "      <td>defective: i was really excited to get the fis...</td>\n",
              "    </tr>\n",
              "    <tr>\n",
              "      <th>1</th>\n",
              "      <td>1</td>\n",
              "      <td>m-audio 2496 sound card: excellent sound card ...</td>\n",
              "    </tr>\n",
              "    <tr>\n",
              "      <th>2</th>\n",
              "      <td>0</td>\n",
              "      <td>missing links: it's a shame the quality of thi...</td>\n",
              "    </tr>\n",
              "    <tr>\n",
              "      <th>3</th>\n",
              "      <td>0</td>\n",
              "      <td>tribute album: this is a tribute album...i did...</td>\n",
              "    </tr>\n",
              "    <tr>\n",
              "      <th>4</th>\n",
              "      <td>1</td>\n",
              "      <td>pretty good: it does taste pretty good and is ...</td>\n",
              "    </tr>\n",
              "    <tr>\n",
              "      <th>...</th>\n",
              "      <td>...</td>\n",
              "      <td>...</td>\n",
              "    </tr>\n",
              "    <tr>\n",
              "      <th>999995</th>\n",
              "      <td>1</td>\n",
              "      <td>tlc...... need i say more: tlc is the best gro...</td>\n",
              "    </tr>\n",
              "    <tr>\n",
              "      <th>999996</th>\n",
              "      <td>1</td>\n",
              "      <td>alternative ending: an excellent book no doubt...</td>\n",
              "    </tr>\n",
              "    <tr>\n",
              "      <th>999997</th>\n",
              "      <td>1</td>\n",
              "      <td>p-town series: i read these out of order becau...</td>\n",
              "    </tr>\n",
              "    <tr>\n",
              "      <th>999998</th>\n",
              "      <td>0</td>\n",
              "      <td>pretty sad....: this book would play out bette...</td>\n",
              "    </tr>\n",
              "    <tr>\n",
              "      <th>999999</th>\n",
              "      <td>1</td>\n",
              "      <td>awesome funky jazz band, definetly check them ...</td>\n",
              "    </tr>\n",
              "  </tbody>\n",
              "</table>\n",
              "<p>1000000 rows × 2 columns</p>\n",
              "</div>"
            ],
            "text/plain": [
              "        Sentiment                                      SentimentText\n",
              "0               0  defective: i was really excited to get the fis...\n",
              "1               1  m-audio 2496 sound card: excellent sound card ...\n",
              "2               0  missing links: it's a shame the quality of thi...\n",
              "3               0  tribute album: this is a tribute album...i did...\n",
              "4               1  pretty good: it does taste pretty good and is ...\n",
              "...           ...                                                ...\n",
              "999995          1  tlc...... need i say more: tlc is the best gro...\n",
              "999996          1  alternative ending: an excellent book no doubt...\n",
              "999997          1  p-town series: i read these out of order becau...\n",
              "999998          0  pretty sad....: this book would play out bette...\n",
              "999999          1  awesome funky jazz band, definetly check them ...\n",
              "\n",
              "[1000000 rows x 2 columns]"
            ]
          },
          "metadata": {
            "tags": []
          },
          "execution_count": 4
        }
      ]
    },
    {
      "cell_type": "markdown",
      "metadata": {
        "collapsed": false,
        "id": "S6HsdXOI-dID",
        "colab_type": "text"
      },
      "source": [
        "### Test data"
      ]
    },
    {
      "cell_type": "code",
      "metadata": {
        "pycharm": {
          "name": "#%%\n"
        },
        "id": "gWF4CJZi-dIF",
        "colab_type": "code",
        "colab": {
          "base_uri": "https://localhost:8080/",
          "height": 442
        },
        "outputId": "80d62458-40b0-438c-d6a6-48b3f13a3bef"
      },
      "source": [
        "path = \"../data/AmazonTestSet400k2.tsv\"\n",
        "testData = pd.read_csv(path, sep='\\t', header=0, encoding=\"utf-8\")\n",
        "row_sizes = testData['SentimentText'].str.split().str.len()\n",
        "testData['SentimentText'] = testData['SentimentText'].str.lower()\n",
        "print(f\"Words count: {pd.Series.sum(row_sizes)}\")\n",
        "testData\n"
      ],
      "execution_count": 5,
      "outputs": [
        {
          "output_type": "stream",
          "text": [
            "Words count: 31369658\n"
          ],
          "name": "stdout"
        },
        {
          "output_type": "execute_result",
          "data": {
            "text/html": [
              "<div>\n",
              "<style scoped>\n",
              "    .dataframe tbody tr th:only-of-type {\n",
              "        vertical-align: middle;\n",
              "    }\n",
              "\n",
              "    .dataframe tbody tr th {\n",
              "        vertical-align: top;\n",
              "    }\n",
              "\n",
              "    .dataframe thead th {\n",
              "        text-align: right;\n",
              "    }\n",
              "</style>\n",
              "<table border=\"1\" class=\"dataframe\">\n",
              "  <thead>\n",
              "    <tr style=\"text-align: right;\">\n",
              "      <th></th>\n",
              "      <th>Sentiment</th>\n",
              "      <th>SentimentText</th>\n",
              "    </tr>\n",
              "  </thead>\n",
              "  <tbody>\n",
              "    <tr>\n",
              "      <th>0</th>\n",
              "      <td>1</td>\n",
              "      <td>this is a great book: i must preface this by s...</td>\n",
              "    </tr>\n",
              "    <tr>\n",
              "      <th>1</th>\n",
              "      <td>0</td>\n",
              "      <td>huge disappointment.: as a big time, long term...</td>\n",
              "    </tr>\n",
              "    <tr>\n",
              "      <th>2</th>\n",
              "      <td>1</td>\n",
              "      <td>wayne is tight but cant hang with turk.: this ...</td>\n",
              "    </tr>\n",
              "    <tr>\n",
              "      <th>3</th>\n",
              "      <td>1</td>\n",
              "      <td>excellent: i read this book when i was in elem...</td>\n",
              "    </tr>\n",
              "    <tr>\n",
              "      <th>4</th>\n",
              "      <td>0</td>\n",
              "      <td>not about anusara: although this book is toute...</td>\n",
              "    </tr>\n",
              "    <tr>\n",
              "      <th>...</th>\n",
              "      <td>...</td>\n",
              "      <td>...</td>\n",
              "    </tr>\n",
              "    <tr>\n",
              "      <th>399995</th>\n",
              "      <td>0</td>\n",
              "      <td>you can fool all the people some of the time b...</td>\n",
              "    </tr>\n",
              "    <tr>\n",
              "      <th>399996</th>\n",
              "      <td>0</td>\n",
              "      <td>it was good but not good: it was an 'okay' boo...</td>\n",
              "    </tr>\n",
              "    <tr>\n",
              "      <th>399997</th>\n",
              "      <td>0</td>\n",
              "      <td>unwatchable: the product arrived promptly and ...</td>\n",
              "    </tr>\n",
              "    <tr>\n",
              "      <th>399998</th>\n",
              "      <td>0</td>\n",
              "      <td>not worth the money or the time to read.: the ...</td>\n",
              "    </tr>\n",
              "    <tr>\n",
              "      <th>399999</th>\n",
              "      <td>1</td>\n",
              "      <td>a nice shift into a gifted mind with multiple ...</td>\n",
              "    </tr>\n",
              "  </tbody>\n",
              "</table>\n",
              "<p>400000 rows × 2 columns</p>\n",
              "</div>"
            ],
            "text/plain": [
              "        Sentiment                                      SentimentText\n",
              "0               1  this is a great book: i must preface this by s...\n",
              "1               0  huge disappointment.: as a big time, long term...\n",
              "2               1  wayne is tight but cant hang with turk.: this ...\n",
              "3               1  excellent: i read this book when i was in elem...\n",
              "4               0  not about anusara: although this book is toute...\n",
              "...           ...                                                ...\n",
              "399995          0  you can fool all the people some of the time b...\n",
              "399996          0  it was good but not good: it was an 'okay' boo...\n",
              "399997          0  unwatchable: the product arrived promptly and ...\n",
              "399998          0  not worth the money or the time to read.: the ...\n",
              "399999          1  a nice shift into a gifted mind with multiple ...\n",
              "\n",
              "[400000 rows x 2 columns]"
            ]
          },
          "metadata": {
            "tags": []
          },
          "execution_count": 5
        }
      ]
    },
    {
      "cell_type": "markdown",
      "metadata": {
        "collapsed": false,
        "id": "WcccUHJj-dIP",
        "colab_type": "text"
      },
      "source": [
        "### Validation data"
      ]
    },
    {
      "cell_type": "code",
      "metadata": {
        "pycharm": {
          "name": "#%%\n"
        },
        "id": "IjE6U6NI-dIR",
        "colab_type": "code",
        "colab": {
          "base_uri": "https://localhost:8080/",
          "height": 442
        },
        "outputId": "7b33f0a7-9378-4278-9f43-b0392b69d1e0"
      },
      "source": [
        "path = \"../data/AmazonValidationSet100K.tsv\"\n",
        "validation_data = pd.read_csv(path, sep='\\t', header=0, encoding=\"utf-8\") # , quoting=csv.QUOTE_NONE\n",
        "row_sizes = validation_data['SentimentText'].str.split().str.len()\n",
        "validation_data['SentimentText'] = validation_data['SentimentText'].str.lower()\n",
        "print(f\"Words count: {pd.Series.sum(row_sizes)}\")\n",
        "validation_data"
      ],
      "execution_count": 6,
      "outputs": [
        {
          "output_type": "stream",
          "text": [
            "Words count: 7826428\n"
          ],
          "name": "stdout"
        },
        {
          "output_type": "execute_result",
          "data": {
            "text/html": [
              "<div>\n",
              "<style scoped>\n",
              "    .dataframe tbody tr th:only-of-type {\n",
              "        vertical-align: middle;\n",
              "    }\n",
              "\n",
              "    .dataframe tbody tr th {\n",
              "        vertical-align: top;\n",
              "    }\n",
              "\n",
              "    .dataframe thead th {\n",
              "        text-align: right;\n",
              "    }\n",
              "</style>\n",
              "<table border=\"1\" class=\"dataframe\">\n",
              "  <thead>\n",
              "    <tr style=\"text-align: right;\">\n",
              "      <th></th>\n",
              "      <th>Sentiment</th>\n",
              "      <th>SentimentText</th>\n",
              "    </tr>\n",
              "  </thead>\n",
              "  <tbody>\n",
              "    <tr>\n",
              "      <th>0</th>\n",
              "      <td>0</td>\n",
              "      <td>just another political opinion disguised as hi...</td>\n",
              "    </tr>\n",
              "    <tr>\n",
              "      <th>1</th>\n",
              "      <td>0</td>\n",
              "      <td>the big bad maniac magee review: i did not lik...</td>\n",
              "    </tr>\n",
              "    <tr>\n",
              "      <th>2</th>\n",
              "      <td>1</td>\n",
              "      <td>a good cable: the cable does exactly what it i...</td>\n",
              "    </tr>\n",
              "    <tr>\n",
              "      <th>3</th>\n",
              "      <td>0</td>\n",
              "      <td>it stinks!: it's so bad it should come with a ...</td>\n",
              "    </tr>\n",
              "    <tr>\n",
              "      <th>4</th>\n",
              "      <td>0</td>\n",
              "      <td>do women really take this seriously?: i picked...</td>\n",
              "    </tr>\n",
              "    <tr>\n",
              "      <th>...</th>\n",
              "      <td>...</td>\n",
              "      <td>...</td>\n",
              "    </tr>\n",
              "    <tr>\n",
              "      <th>99995</th>\n",
              "      <td>1</td>\n",
              "      <td>nice surprise: expecting this older mystery to...</td>\n",
              "    </tr>\n",
              "    <tr>\n",
              "      <th>99996</th>\n",
              "      <td>0</td>\n",
              "      <td>huh?: i fail to see the purpose of this book. ...</td>\n",
              "    </tr>\n",
              "    <tr>\n",
              "      <th>99997</th>\n",
              "      <td>0</td>\n",
              "      <td>don't buy this cirque du (school)!: i love cir...</td>\n",
              "    </tr>\n",
              "    <tr>\n",
              "      <th>99998</th>\n",
              "      <td>1</td>\n",
              "      <td>soft-edged, just a bit undercharacterized: bou...</td>\n",
              "    </tr>\n",
              "    <tr>\n",
              "      <th>99999</th>\n",
              "      <td>1</td>\n",
              "      <td>a very useful work: published in 1949, this is...</td>\n",
              "    </tr>\n",
              "  </tbody>\n",
              "</table>\n",
              "<p>100000 rows × 2 columns</p>\n",
              "</div>"
            ],
            "text/plain": [
              "       Sentiment                                      SentimentText\n",
              "0              0  just another political opinion disguised as hi...\n",
              "1              0  the big bad maniac magee review: i did not lik...\n",
              "2              1  a good cable: the cable does exactly what it i...\n",
              "3              0  it stinks!: it's so bad it should come with a ...\n",
              "4              0  do women really take this seriously?: i picked...\n",
              "...          ...                                                ...\n",
              "99995          1  nice surprise: expecting this older mystery to...\n",
              "99996          0  huh?: i fail to see the purpose of this book. ...\n",
              "99997          0  don't buy this cirque du (school)!: i love cir...\n",
              "99998          1  soft-edged, just a bit undercharacterized: bou...\n",
              "99999          1  a very useful work: published in 1949, this is...\n",
              "\n",
              "[100000 rows x 2 columns]"
            ]
          },
          "metadata": {
            "tags": []
          },
          "execution_count": 6
        }
      ]
    },
    {
      "cell_type": "markdown",
      "metadata": {
        "id": "IPPK7iKT9naI",
        "colab_type": "text"
      },
      "source": [
        "## Preprocessing"
      ]
    },
    {
      "cell_type": "code",
      "metadata": {
        "id": "NC0JCT1dAVfV",
        "colab_type": "code",
        "colab": {}
      },
      "source": [
        "df = amazonData\n",
        "df['review_lenght'] = np.array(list(map(lambda x: len(x.split()), df['SentimentText'])))\n",
        "median = df['review_lenght'].median()\n",
        "mean = df['review_lenght'].mean()\n",
        "_max_length = df['review_lenght'].max()"
      ],
      "execution_count": 0,
      "outputs": []
    },
    {
      "cell_type": "code",
      "metadata": {
        "id": "zqyj8uNo_dnm",
        "colab_type": "code",
        "outputId": "d088e592-1308-45cd-848f-ee7f870354a3",
        "colab": {
          "base_uri": "https://localhost:8080/",
          "height": 283
        }
      },
      "source": [
        "fig, ax = plt.subplots()\n",
        "sb.distplot( df['review_lenght'],  bins=int(_max_length/2),\n",
        "            hist_kws={\"alpha\": 0.9, \"color\": \"blue\"}, ax=ax,\n",
        "            kde_kws={\"color\": \"black\", 'linewidth': 3})\n",
        "ax.set_xlim(left=0, right=_max_length)\n",
        "ax.set_xlabel('Počet slov v recenzi')\n",
        "ymax = 0.016\n",
        "plt.ylim(0, ymax)\n",
        "ax.plot([mean, mean], [0, ymax], '--', label=f'průměr = {mean:.2f}', linewidth=3)\n",
        "ax.plot([median, median], [0, ymax], '--',\n",
        "        label=f'median = {median:.2f}', linewidth=3)\n",
        "ax.plot([_max_length, _max_length], [0, ymax], '--', label=f'max = {_max_length}', linewidth=0)\n",
        "# ax.set_title('Distribuce slov v recenzích', fontsize=20)\n",
        "plt.legend()\n",
        "plt.show()"
      ],
      "execution_count": 11,
      "outputs": [
        {
          "output_type": "display_data",
          "data": {
            "image/png": "[encoded data removed]",
            "text/plain": [
              "<Figure size 432x288 with 1 Axes>"
            ]
          },
          "metadata": {
            "tags": [],
            "needs_background": "light"
          }
        }
      ]
    },
    {
      "cell_type": "code",
      "metadata": {
        "id": "C67w3wgl9pD-",
        "colab_type": "code",
        "outputId": "131c6df6-dd27-4947-e7ef-e835b03642a1",
        "colab": {
          "base_uri": "https://localhost:8080/",
          "height": 54
        }
      },
      "source": [
        "# Tokenizing and padding\n",
        "## Train data\n",
        "max_dictionary_size = 10000\n",
        "tokenizer = Tokenizer(num_words=max_dictionary_size, filters='!\"#$%&()*+,-./:;<=>?@[\\\\]^`{|}_~\\t\\n')\n",
        "tokenizer.fit_on_texts(df['SentimentText'])\n",
        "list_tokenized_train = tokenizer.texts_to_sequences(df['SentimentText'])\n",
        "max_length = 180\n",
        "X_t = pad_sequences(list_tokenized_train, maxlen=max_length, padding='post')\n",
        "y = amazonData['Sentiment']\n",
        "print(\"Max dictionary size\")\n",
        "len(tokenizer.index_word)"
      ],
      "execution_count": 12,
      "outputs": [
        {
          "output_type": "stream",
          "text": [
            "Max dictionary size\n"
          ],
          "name": "stdout"
        },
        {
          "output_type": "execute_result",
          "data": {
            "text/plain": [
              "502158"
            ]
          },
          "metadata": {
            "tags": []
          },
          "execution_count": 12
        }
      ]
    },
    {
      "cell_type": "code",
      "metadata": {
        "pycharm": {
          "name": "#%%\n"
        },
        "id": "R6hb-Geb-dIt",
        "colab_type": "code",
        "colab": {}
      },
      "source": [
        "## Test data\n",
        "list_tokenized_train = tokenizer.texts_to_sequences(testData['SentimentText'])\n",
        "X_test = pad_sequences(list_tokenized_train, maxlen=max_length, padding='post')\n",
        "y_test = testData['Sentiment']"
      ],
      "execution_count": 0,
      "outputs": []
    },
    {
      "cell_type": "code",
      "metadata": {
        "pycharm": {
          "name": "#%%\n"
        },
        "id": "VpfraCgq-dI2",
        "colab_type": "code",
        "colab": {}
      },
      "source": [
        "## Validation data\n",
        "list_tokenized_train = tokenizer.texts_to_sequences(validation_data['SentimentText'])\n",
        "X_valid = pad_sequences(list_tokenized_train, maxlen=max_length, padding='post')\n",
        "y_valid = validation_data['Sentiment']"
      ],
      "execution_count": 0,
      "outputs": []
    },
    {
      "cell_type": "markdown",
      "metadata": {
        "id": "co1jB1bMFcG4",
        "colab_type": "text"
      },
      "source": [
        "## LSTM"
      ]
    },
    {
      "cell_type": "code",
      "metadata": {
        "id": "wNV1j5oQbQpy",
        "colab_type": "code",
        "outputId": "4385f374-0f50-4016-ad4f-b846bebb318a",
        "colab": {
          "base_uri": "https://localhost:8080/",
          "height": 348
        }
      },
      "source": [
        "## Create model\n",
        "model = keras.models.Sequential([\n",
        "    keras.layers.Embedding(max_dictionary_size, 16, input_length=max_length),\n",
        "    keras.layers.Bidirectional(keras.layers.LSTM(16, return_sequences=True)),\n",
        "    keras.layers.GlobalMaxPooling1D(),\n",
        "    keras.layers.Dense(16),\n",
        "    keras.layers.Dense(1, activation=\"sigmoid\")                                \n",
        "])\n",
        "\n",
        "model.summary()\n",
        "model.compile(loss=\"binary_crossentropy\", optimizer=\"adam\", metrics=['accuracy'])\n",
        "\n",
        "early_stopping = keras.callbacks.EarlyStopping(monitor='val_loss',\n",
        "                                        min_delta=0,\n",
        "                                        patience=4,\n",
        "                                        verbose=1,\n",
        "                                        mode='auto',\n",
        "                                        restore_best_weights=True)"
      ],
      "execution_count": 15,
      "outputs": [
        {
          "output_type": "stream",
          "text": [
            "Model: \"sequential\"\n",
            "_________________________________________________________________\n",
            "Layer (type)                 Output Shape              Param #   \n",
            "=================================================================\n",
            "embedding (Embedding)        (None, 180, 16)           160000    \n",
            "_________________________________________________________________\n",
            "bidirectional (Bidirectional (None, 180, 32)           4224      \n",
            "_________________________________________________________________\n",
            "global_max_pooling1d (Global (None, 32)                0         \n",
            "_________________________________________________________________\n",
            "dense (Dense)                (None, 16)                528       \n",
            "_________________________________________________________________\n",
            "dense_1 (Dense)              (None, 1)                 17        \n",
            "=================================================================\n",
            "Total params: 164,769\n",
            "Trainable params: 164,769\n",
            "Non-trainable params: 0\n",
            "_________________________________________________________________\n"
          ],
          "name": "stdout"
        }
      ]
    },
    {
      "cell_type": "code",
      "metadata": {
        "pycharm": {
          "name": "#%%\n"
        },
        "id": "Aqk_RJqe-dJP",
        "colab_type": "code",
        "colab": {
          "base_uri": "https://localhost:8080/",
          "height": 591
        },
        "outputId": "3adf6f8f-d6c5-48bc-eb51-e3256acaa7f0"
      },
      "source": [
        "## Train model\n",
        "history = model.fit(X_t,y, batch_size=128, epochs=12, validation_data=(X_valid, y_valid), callbacks=[early_stopping])\n",
        "show_history(history)"
      ],
      "execution_count": 16,
      "outputs": [
        {
          "output_type": "stream",
          "text": [
            "Epoch 1/12\n",
            "7813/7813 [==============================] - 188s 24ms/step - loss: 0.2046 - accuracy: 0.9185 - val_loss: 0.1652 - val_accuracy: 0.9365\n",
            "Epoch 2/12\n",
            "7813/7813 [==============================] - 189s 24ms/step - loss: 0.1547 - accuracy: 0.9414 - val_loss: 0.1546 - val_accuracy: 0.9409\n",
            "Epoch 3/12\n",
            "7813/7813 [==============================] - 191s 24ms/step - loss: 0.1393 - accuracy: 0.9483 - val_loss: 0.1538 - val_accuracy: 0.9412\n",
            "Epoch 4/12\n",
            "7813/7813 [==============================] - 189s 24ms/step - loss: 0.1287 - accuracy: 0.9527 - val_loss: 0.1555 - val_accuracy: 0.9421\n",
            "Epoch 5/12\n",
            "7813/7813 [==============================] - 190s 24ms/step - loss: 0.1202 - accuracy: 0.9565 - val_loss: 0.1544 - val_accuracy: 0.9421\n",
            "Epoch 6/12\n",
            "7813/7813 [==============================] - 191s 24ms/step - loss: 0.1128 - accuracy: 0.9595 - val_loss: 0.1571 - val_accuracy: 0.9424\n",
            "Epoch 7/12\n",
            "7813/7813 [==============================] - ETA: 0s - loss: 0.1062 - accuracy: 0.9623Restoring model weights from the end of the best epoch.\n",
            "7813/7813 [==============================] - 192s 25ms/step - loss: 0.1062 - accuracy: 0.9623 - val_loss: 0.1625 - val_accuracy: 0.9408\n",
            "Epoch 00007: early stopping\n"
          ],
          "name": "stdout"
        },
        {
          "output_type": "display_data",
          "data": {
            "image/png": "[encoded data removed]",
            "text/plain": [
              "<Figure size 432x288 with 1 Axes>"
            ]
          },
          "metadata": {
            "tags": [],
            "needs_background": "light"
          }
        }
      ]
    },
    {
      "cell_type": "code",
      "metadata": {
        "pycharm": {
          "name": "#%%\n"
        },
        "id": "sq4s9g7S-dJV",
        "colab_type": "code",
        "colab": {
          "base_uri": "https://localhost:8080/",
          "height": 54
        },
        "outputId": "53e91d45-7f64-4f31-b561-8646bf556316"
      },
      "source": [
        "## Evaluate model\n",
        "test_loss, test_acc = model.evaluate(X_test, y_test)\n",
        "print('Test accuracy: ', test_acc)"
      ],
      "execution_count": 17,
      "outputs": [
        {
          "output_type": "stream",
          "text": [
            "12500/12500 [==============================] - 118s 9ms/step - loss: 0.1559 - accuracy: 0.9409\n",
            "Test accuracy:  0.9409375190734863\n"
          ],
          "name": "stdout"
        }
      ]
    },
    {
      "cell_type": "markdown",
      "metadata": {
        "id": "1uex1EAyfYDi",
        "colab_type": "text"
      },
      "source": [
        "## CNN"
      ]
    },
    {
      "cell_type": "code",
      "metadata": {
        "id": "GFk9ObZmfa7A",
        "colab_type": "code",
        "outputId": "b4e67b49-1a3d-44d2-ff18-80a8ba20a112",
        "pycharm": {
          "name": "#%%\n"
        },
        "colab": {
          "base_uri": "https://localhost:8080/",
          "height": 384
        }
      },
      "source": [
        "## Create model\n",
        "\n",
        "filters = 64\n",
        "kernel_size = 3\n",
        "\n",
        "model = keras.models.Sequential([\n",
        "    keras.layers.Embedding(max_dictionary_size, 16, input_length=max_length),\n",
        "    keras.layers.Conv1D(filters, kernel_size, activation=\"relu\"),\n",
        "    keras.layers.GlobalMaxPooling1D(),\n",
        "    keras.layers.Dense(64),\n",
        "    keras.layers.Activation(\"relu\"),\n",
        "    keras.layers.Dense(1, activation=\"sigmoid\")                                \n",
        "])\n",
        "\n",
        "model.summary()\n",
        "model.compile(loss=\"binary_crossentropy\", optimizer=\"adam\", metrics=['accuracy'])\n",
        "\n",
        "early_stopping = keras.callbacks.EarlyStopping(monitor='val_loss',\n",
        "                                        min_delta=0,\n",
        "                                        patience=3,\n",
        "                                        verbose=1,\n",
        "                                        mode='auto',\n",
        "                                        restore_best_weights=True)\n",
        "                                        "
      ],
      "execution_count": 18,
      "outputs": [
        {
          "output_type": "stream",
          "text": [
            "Model: \"sequential_1\"\n",
            "_________________________________________________________________\n",
            "Layer (type)                 Output Shape              Param #   \n",
            "=================================================================\n",
            "embedding_1 (Embedding)      (None, 180, 16)           160000    \n",
            "_________________________________________________________________\n",
            "conv1d (Conv1D)              (None, 178, 64)           3136      \n",
            "_________________________________________________________________\n",
            "global_max_pooling1d_1 (Glob (None, 64)                0         \n",
            "_________________________________________________________________\n",
            "dense_2 (Dense)              (None, 64)                4160      \n",
            "_________________________________________________________________\n",
            "activation (Activation)      (None, 64)                0         \n",
            "_________________________________________________________________\n",
            "dense_3 (Dense)              (None, 1)                 65        \n",
            "=================================================================\n",
            "Total params: 167,361\n",
            "Trainable params: 167,361\n",
            "Non-trainable params: 0\n",
            "_________________________________________________________________\n"
          ],
          "name": "stdout"
        }
      ]
    },
    {
      "cell_type": "code",
      "metadata": {
        "pycharm": {
          "name": "#%%\n"
        },
        "id": "x7KB_MgL-dJh",
        "colab_type": "code",
        "colab": {
          "base_uri": "https://localhost:8080/",
          "height": 517
        },
        "outputId": "02d6c07b-6dae-4356-9700-e0de8f8a4ae1"
      },
      "source": [
        "## Train model\n",
        "history = model.fit(X_t,y, batch_size=128, epochs=12, validation_data=(X_valid, y_valid), callbacks=[early_stopping])\n",
        "show_history(history)"
      ],
      "execution_count": 19,
      "outputs": [
        {
          "output_type": "stream",
          "text": [
            "Epoch 1/12\n",
            "7813/7813 [==============================] - 68s 9ms/step - loss: 0.2141 - accuracy: 0.9136 - val_loss: 0.1828 - val_accuracy: 0.9293\n",
            "Epoch 2/12\n",
            "7813/7813 [==============================] - 68s 9ms/step - loss: 0.1686 - accuracy: 0.9357 - val_loss: 0.1769 - val_accuracy: 0.9320\n",
            "Epoch 3/12\n",
            "7813/7813 [==============================] - 67s 9ms/step - loss: 0.1529 - accuracy: 0.9424 - val_loss: 0.1772 - val_accuracy: 0.9323\n",
            "Epoch 4/12\n",
            "7813/7813 [==============================] - 67s 9ms/step - loss: 0.1413 - accuracy: 0.9478 - val_loss: 0.1786 - val_accuracy: 0.9315\n",
            "Epoch 5/12\n",
            "7813/7813 [==============================] - ETA: 0s - loss: 0.1318 - accuracy: 0.9521Restoring model weights from the end of the best epoch.\n",
            "7813/7813 [==============================] - 66s 8ms/step - loss: 0.1318 - accuracy: 0.9521 - val_loss: 0.1805 - val_accuracy: 0.9312\n",
            "Epoch 00005: early stopping\n"
          ],
          "name": "stdout"
        },
        {
          "output_type": "display_data",
          "data": {
            "image/png": "[encoded data removed]",
            "text/plain": [
              "<Figure size 432x288 with 1 Axes>"
            ]
          },
          "metadata": {
            "tags": [],
            "needs_background": "light"
          }
        }
      ]
    },
    {
      "cell_type": "code",
      "metadata": {
        "pycharm": {
          "name": "#%%\n"
        },
        "id": "Kltr4ll--dJn",
        "colab_type": "code",
        "colab": {
          "base_uri": "https://localhost:8080/",
          "height": 54
        },
        "outputId": "b9b8896f-aa6f-4e42-f462-bda5d817a844"
      },
      "source": [
        "## Evaluate model\n",
        "test_loss, test_acc = model.evaluate(X_test, y_test)\n",
        "print('Test accuracy: ', test_acc)"
      ],
      "execution_count": 20,
      "outputs": [
        {
          "output_type": "stream",
          "text": [
            "12500/12500 [==============================] - 36s 3ms/step - loss: 0.1806 - accuracy: 0.9309\n",
            "Test accuracy:  0.9308900237083435\n"
          ],
          "name": "stdout"
        }
      ]
    }
  ]
}