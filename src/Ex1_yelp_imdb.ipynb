{
 "nbformat": 4,
 "nbformat_minor": 0,
 "metadata": {
  "colab": {
   "name": "SA_Ex1_v2.ipynb",
   "provenance": [],
   "collapsed_sections": [],
   "toc_visible": true
  },
  "kernelspec": {
   "name": "python3",
   "display_name": "Python 3"
  },
  "pycharm": {
   "stem_cell": {
    "cell_type": "raw",
    "source": [],
    "metadata": {
     "collapsed": false
    }
   }
  }
 },
 "cells": [
  {
   "cell_type": "markdown",
   "metadata": {
    "id": "QSeXzYiT8Q2y",
    "colab_type": "text",
    "pycharm": {
     "name": "#%% md\n"
    }
   },
   "source": [
    "# Imports"
   ]
  },
  {
   "cell_type": "code",
   "metadata": {
    "id": "HibgsBc0tVH8",
    "colab_type": "code",
    "outputId": "a42d7630-9164-43fb-c3ea-dd332ffc96cc",
    "colab": {
     "base_uri": "https://localhost:8080/",
     "height": 90
    }
   },
   "source": [
    "import pandas as pd\n",
    "import numpy as np\n",
    "import tensorflow.compat.v2 as tf \n",
    "import tensorflow.keras as keras\n",
    "from keras.preprocessing.text import Tokenizer\n",
    "from keras.preprocessing.sequence import pad_sequences\n",
    "from sklearn.model_selection import StratifiedKFold\n",
    "import matplotlib.pyplot as plt\n",
    "import seaborn as sb\n",
    "\n",
    "tf.version.VERSION"
   ],
   "execution_count": 0,
   "outputs": [
    {
     "output_type": "stream",
     "text": [
      "Using TensorFlow backend.\n",
      "/usr/local/lib/python3.6/dist-packages/statsmodels/tools/_testing.py:19: FutureWarning: pandas.util.testing is deprecated. Use the functions in the public API at pandas.testing instead.\n",
      "  import pandas.util.testing as tm\n"
     ],
     "name": "stderr"
    },
    {
     "output_type": "execute_result",
     "data": {
      "text/plain": [
       "'2.2.0-rc3'"
      ]
     },
     "metadata": {
      "tags": []
     },
     "execution_count": 5
    }
   ]
  },
  {
   "cell_type": "code",
   "metadata": {
    "id": "8IrENo7qBw8R",
    "colab_type": "code",
    "colab": {}
   },
   "source": [
    "# matplotlib configuration\n",
    "\n",
    "SMALL_SIZE = 12\n",
    "MEDIUM_SIZE = 14\n",
    "BIG_SIZE = 16\n",
    "LARGE_SIZE = 20\n",
    "\n",
    "params = {\n",
    "    'figure.figsize': (14, 6),\n",
    "    'font.size': SMALL_SIZE,\n",
    "    'xtick.labelsize': MEDIUM_SIZE,\n",
    "    'ytick.labelsize': MEDIUM_SIZE,\n",
    "    'legend.fontsize': BIG_SIZE,\n",
    "    'figure.titlesize': LARGE_SIZE,\n",
    "    'axes.titlesize': MEDIUM_SIZE,\n",
    "    'axes.labelsize': BIG_SIZE\n",
    "}\n",
    "# plt.rcParams.update(params)"
   ],
   "execution_count": 0,
   "outputs": []
  },
  {
   "cell_type": "code",
   "metadata": {
    "id": "Srq5R1RyGy1K",
    "colab_type": "code",
    "colab": {}
   },
   "source": [
    "# Function to show train history\n",
    "\n",
    "def show_history(history):\n",
    "    plt.figure()\n",
    "    for key in history.history.keys():\n",
    "        plt.plot(history.epoch, history.history[key], label=key)\n",
    "    plt.legend()\n",
    "    plt.tight_layout()"
   ],
   "execution_count": 0,
   "outputs": []
  },
  {
   "cell_type": "markdown",
   "metadata": {
    "id": "nmBejzIk8YVk",
    "colab_type": "text"
   },
   "source": [
    "# YELP\n",
    "## Load data"
   ]
  },
  {
   "cell_type": "code",
   "metadata": {
    "id": "J2b9cEav8aKL",
    "colab_type": "code",
    "outputId": "d243a069-177b-4be8-f6a6-029e71b23b15",
    "colab": {
     "base_uri": "https://localhost:8080/",
     "height": 442
    }
   },
   "source": [
    "path = \"../data/yelp_labelled.txt\"\n",
    "yelpData = pd.read_csv(path, sep='\\t', header=0, encoding=\"utf-8\")\n",
    "row_sizes = yelpData['SentimentText'].str.split().str.len()\n",
    "yelpData['SentimentText'] = yelpData['SentimentText'].str.lower()\n",
    "print(f\"Words count: {pd.Series.sum(row_sizes)}\")\n",
    "yelpData"
   ],
   "execution_count": 0,
   "outputs": [
    {
     "output_type": "stream",
     "text": [
      "Words count: 10894\n"
     ],
     "name": "stdout"
    },
    {
     "output_type": "execute_result",
     "data": {
      "text/html": [
       "<div>\n",
       "<style scoped>\n",
       "    .dataframe tbody tr th:only-of-type {\n",
       "        vertical-align: middle;\n",
       "    }\n",
       "\n",
       "    .dataframe tbody tr th {\n",
       "        vertical-align: top;\n",
       "    }\n",
       "\n",
       "    .dataframe thead th {\n",
       "        text-align: right;\n",
       "    }\n",
       "</style>\n",
       "<table border=\"1\" class=\"dataframe\">\n",
       "  <thead>\n",
       "    <tr style=\"text-align: right;\">\n",
       "      <th></th>\n",
       "      <th>SentimentText</th>\n",
       "      <th>Sentiment</th>\n",
       "    </tr>\n",
       "  </thead>\n",
       "  <tbody>\n",
       "    <tr>\n",
       "      <th>0</th>\n",
       "      <td>wow... loved this place.</td>\n",
       "      <td>1</td>\n",
       "    </tr>\n",
       "    <tr>\n",
       "      <th>1</th>\n",
       "      <td>crust is not good.</td>\n",
       "      <td>0</td>\n",
       "    </tr>\n",
       "    <tr>\n",
       "      <th>2</th>\n",
       "      <td>not tasty and the texture was just nasty.</td>\n",
       "      <td>0</td>\n",
       "    </tr>\n",
       "    <tr>\n",
       "      <th>3</th>\n",
       "      <td>stopped by during the late may bank holiday of...</td>\n",
       "      <td>1</td>\n",
       "    </tr>\n",
       "    <tr>\n",
       "      <th>4</th>\n",
       "      <td>the selection on the menu was great and so wer...</td>\n",
       "      <td>1</td>\n",
       "    </tr>\n",
       "    <tr>\n",
       "      <th>...</th>\n",
       "      <td>...</td>\n",
       "      <td>...</td>\n",
       "    </tr>\n",
       "    <tr>\n",
       "      <th>995</th>\n",
       "      <td>i think food should have flavor and texture an...</td>\n",
       "      <td>0</td>\n",
       "    </tr>\n",
       "    <tr>\n",
       "      <th>996</th>\n",
       "      <td>appetite instantly gone.</td>\n",
       "      <td>0</td>\n",
       "    </tr>\n",
       "    <tr>\n",
       "      <th>997</th>\n",
       "      <td>overall i was not impressed and would not go b...</td>\n",
       "      <td>0</td>\n",
       "    </tr>\n",
       "    <tr>\n",
       "      <th>998</th>\n",
       "      <td>the whole experience was underwhelming, and i ...</td>\n",
       "      <td>0</td>\n",
       "    </tr>\n",
       "    <tr>\n",
       "      <th>999</th>\n",
       "      <td>then, as if i hadn't wasted enough of my life ...</td>\n",
       "      <td>0</td>\n",
       "    </tr>\n",
       "  </tbody>\n",
       "</table>\n",
       "<p>1000 rows × 2 columns</p>\n",
       "</div>"
      ],
      "text/plain": [
       "                                         SentimentText  Sentiment\n",
       "0                             wow... loved this place.          1\n",
       "1                                   crust is not good.          0\n",
       "2            not tasty and the texture was just nasty.          0\n",
       "3    stopped by during the late may bank holiday of...          1\n",
       "4    the selection on the menu was great and so wer...          1\n",
       "..                                                 ...        ...\n",
       "995  i think food should have flavor and texture an...          0\n",
       "996                           appetite instantly gone.          0\n",
       "997  overall i was not impressed and would not go b...          0\n",
       "998  the whole experience was underwhelming, and i ...          0\n",
       "999  then, as if i hadn't wasted enough of my life ...          0\n",
       "\n",
       "[1000 rows x 2 columns]"
      ]
     },
     "metadata": {
      "tags": []
     },
     "execution_count": 7
    }
   ]
  },
  {
   "cell_type": "markdown",
   "metadata": {
    "id": "IPPK7iKT9naI",
    "colab_type": "text"
   },
   "source": [
    "## Preprocessing"
   ]
  },
  {
   "cell_type": "code",
   "metadata": {
    "id": "NC0JCT1dAVfV",
    "colab_type": "code",
    "colab": {}
   },
   "source": [
    "df = yelpData\n",
    "df['review_lenght'] = np.array(list(map(lambda x: len(x.split()), df['SentimentText'])))\n",
    "median = df['review_lenght'].median()\n",
    "mean = df['review_lenght'].mean()\n",
    "_max_length = df['review_lenght'].max()"
   ],
   "execution_count": 0,
   "outputs": []
  },
  {
   "cell_type": "code",
   "metadata": {
    "id": "zqyj8uNo_dnm",
    "colab_type": "code",
    "outputId": "cbef3866-2d6e-4bd4-e122-022cd8dc81d6",
    "colab": {
     "base_uri": "https://localhost:8080/",
     "height": 283
    }
   },
   "source": [
    "fig, ax = plt.subplots()\n",
    "sb.distplot( df['review_lenght'],  bins=_max_length,\n",
    "            hist_kws={\"alpha\": 0.9, \"color\": \"blue\"}, ax=ax,\n",
    "            kde_kws={\"color\": \"black\", 'linewidth': 3})\n",
    "ax.set_xlim(left=0, right=_max_length)\n",
    "ax.set_xlabel('Počet slov v recenzi')\n",
    "ymax = 0.1\n",
    "plt.ylim(0, ymax)\n",
    "ax.plot([mean, mean], [0, ymax], '--', label=f'průměr = {mean:.2f}', linewidth=3)\n",
    "ax.plot([median, median], [0, ymax], '--',\n",
    "        label=f'median = {median:.2f}', linewidth=3)\n",
    "ax.plot([_max_length, _max_length], [0, ymax], '--', label=f'max = {_max_length}', linewidth=0)\n",
    "# ax.set_title('Distribuce slov v recenzích', fontsize=20)\n",
    "plt.legend()\n",
    "plt.show()"
   ],
   "execution_count": 0,
   "outputs": [
    {
     "output_type": "display_data",
     "data": {
      "image/png": "[encoded data removed]",
      "text/plain": [
       "<Figure size 432x288 with 1 Axes>"
      ]
     },
     "metadata": {
      "tags": [],
      "needs_background": "light"
     }
    }
   ]
  },
  {
   "cell_type": "code",
   "metadata": {
    "id": "C67w3wgl9pD-",
    "colab_type": "code",
    "outputId": "863b0742-17e1-4934-8a1c-79c13cc913de",
    "colab": {
     "base_uri": "https://localhost:8080/",
     "height": 35
    }
   },
   "source": [
    "# Tokenizing and padding\n",
    "\n",
    "df = yelpData\n",
    "max_dictionary_size = 2071\n",
    "tokenizer = Tokenizer(num_words=max_dictionary_size)\n",
    "tokenizer.fit_on_texts(df['SentimentText'])\n",
    "list_tokenized_train = tokenizer.texts_to_sequences(df['SentimentText'])\n",
    "max_length = _max_length\n",
    "X_t = pad_sequences(list_tokenized_train, maxlen=max_length, padding='post')\n",
    "y = yelpData['Sentiment']\n",
    "print(\"Max dictionary size\")\n",
    "len(tokenizer.index_word)"
   ],
   "execution_count": 0,
   "outputs": [
    {
     "output_type": "execute_result",
     "data": {
      "text/plain": [
       "2071"
      ]
     },
     "metadata": {
      "tags": []
     },
     "execution_count": 10
    }
   ]
  },
  {
   "cell_type": "markdown",
   "metadata": {
    "id": "co1jB1bMFcG4",
    "colab_type": "text"
   },
   "source": [
    "## LSTM"
   ]
  },
  {
   "cell_type": "code",
   "metadata": {
    "id": "67gLJwPaFWR8",
    "colab_type": "code",
    "outputId": "96596ebf-6eee-4bd1-eee1-846d1872e901",
    "colab": {
     "base_uri": "https://localhost:8080/",
     "height": 1000
    }
   },
   "source": [
    "kfold = StratifiedKFold(n_splits=5, shuffle=True, random_state=1)\n",
    "fold = 0\n",
    "results = list()\n",
    "\n",
    "early_stopping = keras.callbacks.EarlyStopping(monitor='val_accuracy',\n",
    "                                        min_delta=0,\n",
    "                                        patience=4,\n",
    "                                        verbose=1,\n",
    "                                        mode='auto',\n",
    "                                        restore_best_weights=True)\n",
    "## cros validation\n",
    "for train, test in kfold.split(df['SentimentText'], y):\n",
    "    model = keras.models.Sequential([\n",
    "        keras.layers.Embedding(max_dictionary_size, 16, input_length=max_length),\n",
    "        keras.layers.Bidirectional(keras.layers.LSTM(16, return_sequences=True)),\n",
    "        keras.layers.GlobalMaxPooling1D(),\n",
    "        keras.layers.Dense(16),\n",
    "        keras.layers.Dense(1, activation=\"sigmoid\")                                \n",
    "    ])\n",
    "\n",
    "    model.compile(loss=\"binary_crossentropy\", optimizer=\"adam\", metrics=['accuracy'])\n",
    "    model.fit(X_t[train],y[train], batch_size=8, epochs=10,  validation_data=(X_t[test], y[test]), callbacks=[early_stopping])\n",
    "    scores = model.evaluate(X_t[test], y[test])\n",
    "    results.append(scores[1])\n",
    "    fold += 1\n",
    "\n",
    "print(f\"Average accuracy = {sum(results)/fold * 100:0.2f} %\")"
   ],
   "execution_count": 0,
   "outputs": [
    {
     "output_type": "stream",
     "text": [
      "Epoch 1/10\n",
      "100/100 [==============================] - 1s 13ms/step - loss: 0.6924 - accuracy: 0.5312 - val_loss: 0.6859 - val_accuracy: 0.5700\n",
      "Epoch 2/10\n",
      "100/100 [==============================] - 1s 7ms/step - loss: 0.5887 - accuracy: 0.7387 - val_loss: 0.5154 - val_accuracy: 0.7650\n",
      "Epoch 3/10\n",
      "100/100 [==============================] - 1s 7ms/step - loss: 0.2349 - accuracy: 0.9175 - val_loss: 0.4349 - val_accuracy: 0.8150\n",
      "Epoch 4/10\n",
      "100/100 [==============================] - 1s 7ms/step - loss: 0.0919 - accuracy: 0.9700 - val_loss: 0.6571 - val_accuracy: 0.7950\n",
      "Epoch 5/10\n",
      "100/100 [==============================] - 1s 7ms/step - loss: 0.0245 - accuracy: 0.9937 - val_loss: 0.9499 - val_accuracy: 0.7400\n",
      "Epoch 6/10\n",
      "100/100 [==============================] - 1s 7ms/step - loss: 0.0476 - accuracy: 0.9837 - val_loss: 0.6058 - val_accuracy: 0.8300\n",
      "Epoch 7/10\n",
      "100/100 [==============================] - 1s 7ms/step - loss: 0.0316 - accuracy: 0.9900 - val_loss: 0.7244 - val_accuracy: 0.8150\n",
      "Epoch 8/10\n",
      "100/100 [==============================] - 1s 7ms/step - loss: 0.0091 - accuracy: 0.9975 - val_loss: 0.8377 - val_accuracy: 0.8050\n",
      "Epoch 9/10\n",
      "100/100 [==============================] - 1s 7ms/step - loss: 0.0020 - accuracy: 1.0000 - val_loss: 0.9201 - val_accuracy: 0.8000\n",
      "Epoch 10/10\n",
      " 96/100 [===========================>..] - ETA: 0s - loss: 8.9150e-04 - accuracy: 1.0000Restoring model weights from the end of the best epoch.\n",
      "100/100 [==============================] - 1s 7ms/step - loss: 8.8842e-04 - accuracy: 1.0000 - val_loss: 0.9940 - val_accuracy: 0.8000\n",
      "Epoch 00010: early stopping\n",
      "7/7 [==============================] - 0s 4ms/step - loss: 0.5416 - accuracy: 0.8300\n",
      "Epoch 1/10\n",
      "100/100 [==============================] - 1s 13ms/step - loss: 0.6928 - accuracy: 0.5175 - val_loss: 0.6862 - val_accuracy: 0.7450\n",
      "Epoch 2/10\n",
      "100/100 [==============================] - 1s 7ms/step - loss: 0.5984 - accuracy: 0.7937 - val_loss: 0.4848 - val_accuracy: 0.7950\n",
      "Epoch 3/10\n",
      "100/100 [==============================] - 1s 7ms/step - loss: 0.2370 - accuracy: 0.9175 - val_loss: 0.4931 - val_accuracy: 0.7900\n",
      "Epoch 4/10\n",
      "100/100 [==============================] - 1s 7ms/step - loss: 0.0909 - accuracy: 0.9712 - val_loss: 0.6186 - val_accuracy: 0.8100\n",
      "Epoch 5/10\n",
      "100/100 [==============================] - 1s 7ms/step - loss: 0.0540 - accuracy: 0.9850 - val_loss: 0.7242 - val_accuracy: 0.8200\n",
      "Epoch 6/10\n",
      "100/100 [==============================] - 1s 7ms/step - loss: 0.0230 - accuracy: 0.9925 - val_loss: 0.8183 - val_accuracy: 0.8200\n",
      "Epoch 7/10\n",
      "100/100 [==============================] - 1s 7ms/step - loss: 0.0325 - accuracy: 0.9875 - val_loss: 0.7829 - val_accuracy: 0.8150\n",
      "Epoch 8/10\n",
      "100/100 [==============================] - 1s 7ms/step - loss: 0.0097 - accuracy: 0.9975 - val_loss: 0.8704 - val_accuracy: 0.8100\n",
      "Epoch 9/10\n",
      "100/100 [==============================] - 1s 7ms/step - loss: 0.0071 - accuracy: 0.9975 - val_loss: 0.9416 - val_accuracy: 0.8250\n",
      "Epoch 10/10\n",
      "100/100 [==============================] - 1s 7ms/step - loss: 0.0016 - accuracy: 1.0000 - val_loss: 1.0331 - val_accuracy: 0.8000\n",
      "7/7 [==============================] - 0s 5ms/step - loss: 0.9237 - accuracy: 0.8000\n",
      "Epoch 1/10\n",
      "100/100 [==============================] - 1s 13ms/step - loss: 0.6925 - accuracy: 0.5500 - val_loss: 0.6882 - val_accuracy: 0.6350\n",
      "Epoch 2/10\n",
      "100/100 [==============================] - 1s 7ms/step - loss: 0.6246 - accuracy: 0.6950 - val_loss: 0.5527 - val_accuracy: 0.7300\n",
      "Epoch 3/10\n",
      "100/100 [==============================] - 1s 8ms/step - loss: 0.2611 - accuracy: 0.9038 - val_loss: 0.6108 - val_accuracy: 0.7650\n",
      "Epoch 4/10\n",
      "100/100 [==============================] - 1s 9ms/step - loss: 0.0967 - accuracy: 0.9712 - val_loss: 0.7619 - val_accuracy: 0.7100\n",
      "Epoch 5/10\n",
      "100/100 [==============================] - 1s 7ms/step - loss: 0.0788 - accuracy: 0.9737 - val_loss: 0.8159 - val_accuracy: 0.7750\n",
      "Epoch 6/10\n",
      "100/100 [==============================] - 1s 7ms/step - loss: 0.0265 - accuracy: 0.9912 - val_loss: 0.9337 - val_accuracy: 0.7600\n",
      "Epoch 7/10\n",
      "100/100 [==============================] - 1s 7ms/step - loss: 0.0130 - accuracy: 0.9950 - val_loss: 1.0113 - val_accuracy: 0.7750\n",
      "Epoch 8/10\n",
      "100/100 [==============================] - 1s 7ms/step - loss: 0.0125 - accuracy: 0.9975 - val_loss: 1.0192 - val_accuracy: 0.7700\n",
      "Epoch 9/10\n",
      " 95/100 [===========================>..] - ETA: 0s - loss: 0.0037 - accuracy: 0.9987Restoring model weights from the end of the best epoch.\n",
      "100/100 [==============================] - 1s 7ms/step - loss: 0.0037 - accuracy: 0.9987 - val_loss: 1.0412 - val_accuracy: 0.7700\n",
      "Epoch 00009: early stopping\n",
      "7/7 [==============================] - 0s 4ms/step - loss: 0.7371 - accuracy: 0.7750\n",
      "Epoch 1/10\n",
      "100/100 [==============================] - 1s 13ms/step - loss: 0.6895 - accuracy: 0.5462 - val_loss: 0.6802 - val_accuracy: 0.6800\n",
      "Epoch 2/10\n",
      "100/100 [==============================] - 1s 7ms/step - loss: 0.5723 - accuracy: 0.7563 - val_loss: 0.5639 - val_accuracy: 0.7150\n",
      "Epoch 3/10\n",
      "100/100 [==============================] - 1s 7ms/step - loss: 0.2471 - accuracy: 0.9125 - val_loss: 0.5187 - val_accuracy: 0.7950\n",
      "Epoch 4/10\n",
      "100/100 [==============================] - 1s 7ms/step - loss: 0.1004 - accuracy: 0.9712 - val_loss: 0.5330 - val_accuracy: 0.7850\n",
      "Epoch 5/10\n",
      "100/100 [==============================] - 1s 7ms/step - loss: 0.0371 - accuracy: 0.9900 - val_loss: 0.7176 - val_accuracy: 0.7800\n",
      "Epoch 6/10\n",
      "100/100 [==============================] - 1s 7ms/step - loss: 0.0261 - accuracy: 0.9925 - val_loss: 0.7659 - val_accuracy: 0.7850\n",
      "Epoch 7/10\n",
      " 94/100 [===========================>..] - ETA: 0s - loss: 0.0154 - accuracy: 0.9960Restoring model weights from the end of the best epoch.\n",
      "100/100 [==============================] - 1s 7ms/step - loss: 0.0181 - accuracy: 0.9950 - val_loss: 0.7760 - val_accuracy: 0.7750\n",
      "Epoch 00007: early stopping\n",
      "7/7 [==============================] - 0s 3ms/step - loss: 0.4806 - accuracy: 0.7950\n",
      "Epoch 1/10\n",
      "100/100 [==============================] - 1s 13ms/step - loss: 0.6923 - accuracy: 0.5125 - val_loss: 0.6842 - val_accuracy: 0.7300\n",
      "Epoch 2/10\n",
      "100/100 [==============================] - 1s 7ms/step - loss: 0.6060 - accuracy: 0.7538 - val_loss: 0.4596 - val_accuracy: 0.7750\n",
      "Epoch 3/10\n",
      "100/100 [==============================] - 1s 7ms/step - loss: 0.2479 - accuracy: 0.9137 - val_loss: 0.4097 - val_accuracy: 0.8100\n",
      "Epoch 4/10\n",
      "100/100 [==============================] - 1s 7ms/step - loss: 0.1111 - accuracy: 0.9613 - val_loss: 0.4585 - val_accuracy: 0.8400\n",
      "Epoch 5/10\n",
      "100/100 [==============================] - 1s 7ms/step - loss: 0.0470 - accuracy: 0.9862 - val_loss: 0.6208 - val_accuracy: 0.8050\n",
      "Epoch 6/10\n",
      "100/100 [==============================] - 1s 8ms/step - loss: 0.0311 - accuracy: 0.9912 - val_loss: 0.6857 - val_accuracy: 0.7950\n",
      "Epoch 7/10\n",
      "100/100 [==============================] - 1s 7ms/step - loss: 0.0206 - accuracy: 0.9950 - val_loss: 0.7020 - val_accuracy: 0.8100\n",
      "Epoch 8/10\n",
      " 99/100 [============================>.] - ETA: 0s - loss: 0.0121 - accuracy: 0.9975Restoring model weights from the end of the best epoch.\n",
      "100/100 [==============================] - 1s 8ms/step - loss: 0.0120 - accuracy: 0.9975 - val_loss: 0.7533 - val_accuracy: 0.8050\n",
      "Epoch 00008: early stopping\n",
      "7/7 [==============================] - 0s 5ms/step - loss: 0.4607 - accuracy: 0.8400\n",
      "Average accuracy = 80.80 %\n"
     ],
     "name": "stdout"
    }
   ]
  },
  {
   "cell_type": "markdown",
   "metadata": {
    "id": "1uex1EAyfYDi",
    "colab_type": "text"
   },
   "source": [
    "## CNN"
   ]
  },
  {
   "cell_type": "code",
   "metadata": {
    "id": "GFk9ObZmfa7A",
    "colab_type": "code",
    "outputId": "6347bfd0-e60e-4ee8-f61e-7dd75cc9a014",
    "colab": {
     "base_uri": "https://localhost:8080/",
     "height": 1000
    }
   },
   "source": [
    "kfold = StratifiedKFold(n_splits=5, shuffle=True, random_state=1)\n",
    "fold = 0\n",
    "results = list()\n",
    "filters = 64\n",
    "kernel_size = 3\n",
    "early_stopping = keras.callbacks.EarlyStopping(monitor='val_accuracy',\n",
    "                                        min_delta=0,\n",
    "                                        patience=4,\n",
    "                                        verbose=1,\n",
    "                                        mode='auto',\n",
    "                                        restore_best_weights=True)\n",
    "for train, test in kfold.split(df['SentimentText'], y):\n",
    "    model = keras.models.Sequential([\n",
    "        keras.layers.Embedding(max_dictionary_size, 16, input_length=max_length),\n",
    "        keras.layers.Conv1D(filters, kernel_size, activation=\"relu\"),\n",
    "        keras.layers.GlobalMaxPooling1D(),\n",
    "        keras.layers.Dense(64),\n",
    "        keras.layers.Activation(\"relu\"),\n",
    "        keras.layers.Dense(1, activation=\"sigmoid\")                                \n",
    "    ])\n",
    "\n",
    "    model.compile(loss=\"binary_crossentropy\", optimizer=\"adam\", metrics=['accuracy'])\n",
    "    model.fit(X_t[train],y[train], batch_size=8, epochs=10,  validation_data=(X_t[test], y[test]), callbacks=[early_stopping])\n",
    "    scores = model.evaluate(X_t[test], y[test])\n",
    "    results.append(scores[1])\n",
    "    fold += 1\n",
    "print(f\"Average accuracy = {sum(results)/fold * 100:0.2f} %\")"
   ],
   "execution_count": 0,
   "outputs": [
    {
     "output_type": "stream",
     "text": [
      "Epoch 1/10\n",
      "100/100 [==============================] - 0s 5ms/step - loss: 0.6917 - accuracy: 0.5100 - val_loss: 0.6846 - val_accuracy: 0.5050\n",
      "Epoch 2/10\n",
      "100/100 [==============================] - 0s 4ms/step - loss: 0.5992 - accuracy: 0.7600 - val_loss: 0.5124 - val_accuracy: 0.7900\n",
      "Epoch 3/10\n",
      "100/100 [==============================] - 0s 3ms/step - loss: 0.2701 - accuracy: 0.9250 - val_loss: 0.5063 - val_accuracy: 0.7450\n",
      "Epoch 4/10\n",
      "100/100 [==============================] - 0s 4ms/step - loss: 0.0786 - accuracy: 0.9825 - val_loss: 0.5690 - val_accuracy: 0.7400\n",
      "Epoch 5/10\n",
      "100/100 [==============================] - 0s 4ms/step - loss: 0.0209 - accuracy: 0.9987 - val_loss: 0.6135 - val_accuracy: 0.7600\n",
      "Epoch 6/10\n",
      " 87/100 [=========================>....] - ETA: 0s - loss: 0.0069 - accuracy: 1.0000Restoring model weights from the end of the best epoch.\n",
      "100/100 [==============================] - 0s 4ms/step - loss: 0.0066 - accuracy: 1.0000 - val_loss: 0.6500 - val_accuracy: 0.7650\n",
      "Epoch 00006: early stopping\n",
      "7/7 [==============================] - 0s 2ms/step - loss: 0.5088 - accuracy: 0.7900\n",
      "Epoch 1/10\n",
      "100/100 [==============================] - 0s 4ms/step - loss: 0.6894 - accuracy: 0.5788 - val_loss: 0.6744 - val_accuracy: 0.6950\n",
      "Epoch 2/10\n",
      "100/100 [==============================] - 0s 4ms/step - loss: 0.5791 - accuracy: 0.8000 - val_loss: 0.4852 - val_accuracy: 0.7650\n",
      "Epoch 3/10\n",
      "100/100 [==============================] - 0s 4ms/step - loss: 0.2579 - accuracy: 0.9125 - val_loss: 0.4671 - val_accuracy: 0.7800\n",
      "Epoch 4/10\n",
      "100/100 [==============================] - 0s 4ms/step - loss: 0.0872 - accuracy: 0.9787 - val_loss: 0.5407 - val_accuracy: 0.7950\n",
      "Epoch 5/10\n",
      "100/100 [==============================] - 0s 3ms/step - loss: 0.0281 - accuracy: 0.9937 - val_loss: 0.5692 - val_accuracy: 0.7950\n",
      "Epoch 6/10\n",
      "100/100 [==============================] - 0s 3ms/step - loss: 0.0094 - accuracy: 0.9987 - val_loss: 0.6084 - val_accuracy: 0.7850\n",
      "Epoch 7/10\n",
      "100/100 [==============================] - 0s 4ms/step - loss: 0.0046 - accuracy: 1.0000 - val_loss: 0.6412 - val_accuracy: 0.7900\n",
      "Epoch 8/10\n",
      " 93/100 [==========================>...] - ETA: 0s - loss: 0.0025 - accuracy: 1.0000Restoring model weights from the end of the best epoch.\n",
      "100/100 [==============================] - 0s 3ms/step - loss: 0.0027 - accuracy: 1.0000 - val_loss: 0.6694 - val_accuracy: 0.7950\n",
      "Epoch 00008: early stopping\n",
      "7/7 [==============================] - 0s 3ms/step - loss: 0.5157 - accuracy: 0.7950\n",
      "Epoch 1/10\n",
      "100/100 [==============================] - 0s 4ms/step - loss: 0.6884 - accuracy: 0.5650 - val_loss: 0.6747 - val_accuracy: 0.7000\n",
      "Epoch 2/10\n",
      "100/100 [==============================] - 0s 4ms/step - loss: 0.5470 - accuracy: 0.8100 - val_loss: 0.4786 - val_accuracy: 0.7350\n",
      "Epoch 3/10\n",
      "100/100 [==============================] - 0s 3ms/step - loss: 0.2352 - accuracy: 0.9325 - val_loss: 0.4133 - val_accuracy: 0.8050\n",
      "Epoch 4/10\n",
      "100/100 [==============================] - 0s 4ms/step - loss: 0.0686 - accuracy: 0.9837 - val_loss: 0.4587 - val_accuracy: 0.8100\n",
      "Epoch 5/10\n",
      "100/100 [==============================] - 0s 4ms/step - loss: 0.0232 - accuracy: 0.9937 - val_loss: 0.5074 - val_accuracy: 0.8100\n",
      "Epoch 6/10\n",
      "100/100 [==============================] - 0s 3ms/step - loss: 0.0097 - accuracy: 1.0000 - val_loss: 0.5465 - val_accuracy: 0.8050\n",
      "Epoch 7/10\n",
      "100/100 [==============================] - 0s 3ms/step - loss: 0.0039 - accuracy: 1.0000 - val_loss: 0.5819 - val_accuracy: 0.8100\n",
      "Epoch 8/10\n",
      " 86/100 [========================>.....] - ETA: 0s - loss: 0.0024 - accuracy: 1.0000Restoring model weights from the end of the best epoch.\n",
      "100/100 [==============================] - 0s 4ms/step - loss: 0.0024 - accuracy: 1.0000 - val_loss: 0.6086 - val_accuracy: 0.8100\n",
      "Epoch 00008: early stopping\n",
      "7/7 [==============================] - 0s 2ms/step - loss: 0.4905 - accuracy: 0.8100\n",
      "Epoch 1/10\n",
      "100/100 [==============================] - 0s 4ms/step - loss: 0.6928 - accuracy: 0.5013 - val_loss: 0.6889 - val_accuracy: 0.5150\n",
      "Epoch 2/10\n",
      "100/100 [==============================] - 0s 4ms/step - loss: 0.6325 - accuracy: 0.7487 - val_loss: 0.5631 - val_accuracy: 0.7700\n",
      "Epoch 3/10\n",
      "100/100 [==============================] - 0s 4ms/step - loss: 0.3227 - accuracy: 0.9000 - val_loss: 0.4078 - val_accuracy: 0.8100\n",
      "Epoch 4/10\n",
      "100/100 [==============================] - 0s 4ms/step - loss: 0.0973 - accuracy: 0.9825 - val_loss: 0.4639 - val_accuracy: 0.8050\n",
      "Epoch 5/10\n",
      "100/100 [==============================] - 0s 3ms/step - loss: 0.0349 - accuracy: 0.9925 - val_loss: 0.4746 - val_accuracy: 0.8100\n",
      "Epoch 6/10\n",
      "100/100 [==============================] - 0s 4ms/step - loss: 0.0120 - accuracy: 0.9987 - val_loss: 0.5100 - val_accuracy: 0.8150\n",
      "Epoch 7/10\n",
      "100/100 [==============================] - 0s 3ms/step - loss: 0.0051 - accuracy: 1.0000 - val_loss: 0.5426 - val_accuracy: 0.8050\n",
      "Epoch 8/10\n",
      "100/100 [==============================] - 0s 4ms/step - loss: 0.0031 - accuracy: 1.0000 - val_loss: 0.5587 - val_accuracy: 0.8000\n",
      "Epoch 9/10\n",
      "100/100 [==============================] - 0s 4ms/step - loss: 0.0020 - accuracy: 1.0000 - val_loss: 0.5743 - val_accuracy: 0.8150\n",
      "Epoch 10/10\n",
      "100/100 [==============================] - 0s 3ms/step - loss: 0.0014 - accuracy: 1.0000 - val_loss: 0.5909 - val_accuracy: 0.8200\n",
      "7/7 [==============================] - 0s 2ms/step - loss: 0.5479 - accuracy: 0.8200\n",
      "Epoch 1/10\n",
      "100/100 [==============================] - 0s 4ms/step - loss: 0.6909 - accuracy: 0.5450 - val_loss: 0.6848 - val_accuracy: 0.6250\n",
      "Epoch 2/10\n",
      "100/100 [==============================] - 0s 3ms/step - loss: 0.5721 - accuracy: 0.8000 - val_loss: 0.4955 - val_accuracy: 0.7900\n",
      "Epoch 3/10\n",
      "100/100 [==============================] - 0s 4ms/step - loss: 0.2540 - accuracy: 0.9212 - val_loss: 0.4127 - val_accuracy: 0.7900\n",
      "Epoch 4/10\n",
      "100/100 [==============================] - 0s 3ms/step - loss: 0.0904 - accuracy: 0.9737 - val_loss: 0.4279 - val_accuracy: 0.8100\n",
      "Epoch 5/10\n",
      "100/100 [==============================] - 0s 3ms/step - loss: 0.0315 - accuracy: 0.9950 - val_loss: 0.4737 - val_accuracy: 0.7950\n",
      "Epoch 6/10\n",
      "100/100 [==============================] - 0s 3ms/step - loss: 0.0117 - accuracy: 0.9987 - val_loss: 0.5079 - val_accuracy: 0.7950\n",
      "Epoch 7/10\n",
      "100/100 [==============================] - 0s 4ms/step - loss: 0.0050 - accuracy: 1.0000 - val_loss: 0.5403 - val_accuracy: 0.8000\n",
      "Epoch 8/10\n",
      " 95/100 [===========================>..] - ETA: 0s - loss: 0.0027 - accuracy: 1.0000Restoring model weights from the end of the best epoch.\n",
      "100/100 [==============================] - 0s 3ms/step - loss: 0.0027 - accuracy: 1.0000 - val_loss: 0.5778 - val_accuracy: 0.8100\n",
      "Epoch 00008: early stopping\n",
      "7/7 [==============================] - 0s 3ms/step - loss: 0.4093 - accuracy: 0.8100\n",
      "Average accuracy = 80.50 %\n"
     ],
     "name": "stdout"
    }
   ]
  },
  {
   "cell_type": "markdown",
   "metadata": {
    "id": "eg8L177zgN2f",
    "colab_type": "text"
   },
   "source": [
    "# IMDB\n",
    "## Load data"
   ]
  },
  {
   "cell_type": "code",
   "metadata": {
    "id": "xyAHbiZwgRHB",
    "colab_type": "code",
    "outputId": "fd7cd192-8284-49a6-eb1d-d0a6438261ad",
    "colab": {
     "base_uri": "https://localhost:8080/",
     "height": 442
    }
   },
   "source": [
    "path = \"../data/imdb_50k.tsv\"\n",
    "imdbData = pd.read_csv(path, sep='\\t', header=0, encoding=\"utf-8\", doublequote=False, escapechar=\"\\\\\")\n",
    "imdbData = imdbData.drop(['id'], axis=1)\n",
    "row_sizes = imdbData['SentimentText'].str.split().str.len()\n",
    "imdbData['SentimentText'] = imdbData['SentimentText'].str.lower()\n",
    "print(f\"Words count: {pd.Series.sum(row_sizes)}\")\n",
    "imdbData"
   ],
   "execution_count": 0,
   "outputs": [
    {
     "output_type": "stream",
     "text": [
      "Words count: 11557842\n"
     ],
     "name": "stdout"
    },
    {
     "output_type": "execute_result",
     "data": {
      "text/html": [
       "<div>\n",
       "<style scoped>\n",
       "    .dataframe tbody tr th:only-of-type {\n",
       "        vertical-align: middle;\n",
       "    }\n",
       "\n",
       "    .dataframe tbody tr th {\n",
       "        vertical-align: top;\n",
       "    }\n",
       "\n",
       "    .dataframe thead th {\n",
       "        text-align: right;\n",
       "    }\n",
       "</style>\n",
       "<table border=\"1\" class=\"dataframe\">\n",
       "  <thead>\n",
       "    <tr style=\"text-align: right;\">\n",
       "      <th></th>\n",
       "      <th>Sentiment</th>\n",
       "      <th>SentimentText</th>\n",
       "    </tr>\n",
       "  </thead>\n",
       "  <tbody>\n",
       "    <tr>\n",
       "      <th>0</th>\n",
       "      <td>0</td>\n",
       "      <td>a bit of a disappointing film, i'd say: the ac...</td>\n",
       "    </tr>\n",
       "    <tr>\n",
       "      <th>1</th>\n",
       "      <td>0</td>\n",
       "      <td>the acting was terrible, the cheesy, fake, che...</td>\n",
       "    </tr>\n",
       "    <tr>\n",
       "      <th>2</th>\n",
       "      <td>1</td>\n",
       "      <td>plenty has been written about mamet's \"the hou...</td>\n",
       "    </tr>\n",
       "    <tr>\n",
       "      <th>3</th>\n",
       "      <td>1</td>\n",
       "      <td>\"journey to the far side of the sun\" (aka \"dop...</td>\n",
       "    </tr>\n",
       "    <tr>\n",
       "      <th>4</th>\n",
       "      <td>1</td>\n",
       "      <td>i lived in that area (hoboken and jersey city)...</td>\n",
       "    </tr>\n",
       "    <tr>\n",
       "      <th>...</th>\n",
       "      <td>...</td>\n",
       "      <td>...</td>\n",
       "    </tr>\n",
       "    <tr>\n",
       "      <th>49995</th>\n",
       "      <td>1</td>\n",
       "      <td>as a big dostoyevsky fan, i had always been di...</td>\n",
       "    </tr>\n",
       "    <tr>\n",
       "      <th>49996</th>\n",
       "      <td>0</td>\n",
       "      <td>i didn't watch this show that much when i was ...</td>\n",
       "    </tr>\n",
       "    <tr>\n",
       "      <th>49997</th>\n",
       "      <td>1</td>\n",
       "      <td>for people who are first timers in film making...</td>\n",
       "    </tr>\n",
       "    <tr>\n",
       "      <th>49998</th>\n",
       "      <td>0</td>\n",
       "      <td>pumpkinhead was in itself a decent 80s horror ...</td>\n",
       "    </tr>\n",
       "    <tr>\n",
       "      <th>49999</th>\n",
       "      <td>1</td>\n",
       "      <td>i would like to start by saying i can only hop...</td>\n",
       "    </tr>\n",
       "  </tbody>\n",
       "</table>\n",
       "<p>50000 rows × 2 columns</p>\n",
       "</div>"
      ],
      "text/plain": [
       "       Sentiment                                      SentimentText\n",
       "0              0  a bit of a disappointing film, i'd say: the ac...\n",
       "1              0  the acting was terrible, the cheesy, fake, che...\n",
       "2              1  plenty has been written about mamet's \"the hou...\n",
       "3              1  \"journey to the far side of the sun\" (aka \"dop...\n",
       "4              1  i lived in that area (hoboken and jersey city)...\n",
       "...          ...                                                ...\n",
       "49995          1  as a big dostoyevsky fan, i had always been di...\n",
       "49996          0  i didn't watch this show that much when i was ...\n",
       "49997          1  for people who are first timers in film making...\n",
       "49998          0  pumpkinhead was in itself a decent 80s horror ...\n",
       "49999          1  i would like to start by saying i can only hop...\n",
       "\n",
       "[50000 rows x 2 columns]"
      ]
     },
     "metadata": {
      "tags": []
     },
     "execution_count": 3
    }
   ]
  },
  {
   "cell_type": "markdown",
   "metadata": {
    "id": "mthjIcvVgX0l",
    "colab_type": "text"
   },
   "source": [
    "## Preprocessing"
   ]
  },
  {
   "cell_type": "code",
   "metadata": {
    "id": "GPJYTQYFgn57",
    "colab_type": "code",
    "colab": {}
   },
   "source": [
    "df = imdbData\n",
    "df['review_lenght'] = np.array(list(map(lambda x: len(x.split()), df['SentimentText'])))\n",
    "median = df['review_lenght'].median()\n",
    "mean = df['review_lenght'].mean()\n",
    "_max_length = df['review_lenght'].max()"
   ],
   "execution_count": 0,
   "outputs": []
  },
  {
   "cell_type": "code",
   "metadata": {
    "id": "3Pff_EyGgwEz",
    "colab_type": "code",
    "outputId": "b2f47808-fb41-4fea-b86a-703b13d2aab9",
    "colab": {
     "base_uri": "https://localhost:8080/",
     "height": 283
    }
   },
   "source": [
    "fig, ax = plt.subplots()\n",
    "sb.distplot( df['review_lenght'],  bins=int(_max_length/4),\n",
    "            hist_kws={\"alpha\": 0.9, \"color\": \"blue\"}, ax=ax,\n",
    "            kde_kws={\"color\": \"black\", 'linewidth': 3})\n",
    "ax.set_xlim(left=0, right=_max_length/4)\n",
    "ax.set_xlabel('Počet slov v recenzi')\n",
    "ymax = 0.008\n",
    "plt.ylim(0, ymax)\n",
    "ax.plot([mean, mean], [0, ymax], '--', label=f'průměr = {mean:.2f}', linewidth=3)\n",
    "ax.plot([median, median], [0, ymax], '--',\n",
    "        label=f'median = {median:.2f}', linewidth=3)\n",
    "ax.plot([_max_length, _max_length], [0, ymax], '--', label=f'max = {_max_length}', linewidth=0)\n",
    "# ax.set_title('Distribuce slov v recenzích', fontsize=20)\n",
    "plt.legend()\n",
    "plt.show()"
   ],
   "execution_count": 0,
   "outputs": [
    {
     "output_type": "display_data",
     "data": {
      "image/png": "[encoded data removed]",
      "text/plain": [
       "<Figure size 432x288 with 1 Axes>"
      ]
     },
     "metadata": {
      "tags": []
     }
    }
   ]
  },
  {
   "cell_type": "code",
   "metadata": {
    "id": "IpLm0t-Th1sw",
    "colab_type": "code",
    "outputId": "cd8c98f3-382c-4d7d-8ea9-a563ed845bdf",
    "colab": {
     "base_uri": "https://localhost:8080/",
     "height": 35
    }
   },
   "source": [
    "# Tokenizing and padding\n",
    "\n",
    "max_dictionary_size = 10000\n",
    "tokenizer = Tokenizer(num_words=max_dictionary_size)\n",
    "tokenizer.fit_on_texts(df['SentimentText'])\n",
    "list_tokenized_train = tokenizer.texts_to_sequences(df['SentimentText'])\n",
    "max_length = 400\n",
    "X_t = pad_sequences(list_tokenized_train, maxlen=max_length, padding='post')\n",
    "y = imdbData['Sentiment']\n",
    "print(\"Max dictionary size\")\n",
    "len(tokenizer.index_word)"
   ],
   "execution_count": 0,
   "outputs": [
    {
     "output_type": "execute_result",
     "data": {
      "text/plain": [
       "124264"
      ]
     },
     "metadata": {
      "tags": []
     },
     "execution_count": 5
    }
   ]
  },
  {
   "cell_type": "markdown",
   "metadata": {
    "id": "Rpzx3Cjrgc9l",
    "colab_type": "text"
   },
   "source": [
    "## LSTM"
   ]
  },
  {
   "cell_type": "code",
   "metadata": {
    "id": "4eYazwhbh42j",
    "colab_type": "code",
    "outputId": "e1de610c-bb6e-4a61-bfca-9db5697dac95",
    "colab": {
     "base_uri": "https://localhost:8080/",
     "height": 1000
    }
   },
   "source": [
    "kfold = StratifiedKFold(n_splits=5, shuffle=True, random_state=1)\n",
    "fold = 0\n",
    "results = list()\n",
    "\n",
    "early_stopping = keras.callbacks.EarlyStopping(monitor='val_accuracy',\n",
    "                                        min_delta=0,\n",
    "                                        patience=3,\n",
    "                                        verbose=1,\n",
    "                                        mode='auto',\n",
    "                                        restore_best_weights=True)\n",
    "\n",
    "for train, test in kfold.split(df['SentimentText'], y):\n",
    "    print(f\"******* Fold {fold + 1} ***********\")\n",
    "    model = keras.models.Sequential([\n",
    "        keras.layers.Embedding(max_dictionary_size, 16, input_length=max_length),\n",
    "        keras.layers.Bidirectional(keras.layers.LSTM(16, return_sequences=True)),\n",
    "        keras.layers.GlobalMaxPooling1D(),\n",
    "        keras.layers.Dense(16),\n",
    "        keras.layers.Dense(1, activation=\"sigmoid\")                                \n",
    "    ])\n",
    "\n",
    "    model.compile(loss=\"binary_crossentropy\", optimizer=\"adam\", metrics=['accuracy'])\n",
    "    model.fit(X_t[train],y[train], batch_size=64, epochs=10, validation_data=(X_t[test], y[test]), callbacks=[early_stopping])\n",
    "    scores = model.evaluate(X_t[test], y[test])\n",
    "    results.append(scores[1])\n",
    "    fold += 1\n",
    "print(f\"Average accuracy = {sum(results)/fold * 100:0.2f} %\")"
   ],
   "execution_count": 0,
   "outputs": [
    {
     "output_type": "stream",
     "text": [
      "******* Fold 1 ***********\n",
      "Epoch 1/10\n",
      "625/625 [==============================] - 24s 38ms/step - loss: 0.3694 - accuracy: 0.8245 - val_loss: 0.2823 - val_accuracy: 0.8842\n",
      "Epoch 2/10\n",
      "625/625 [==============================] - 24s 38ms/step - loss: 0.2026 - accuracy: 0.9209 - val_loss: 0.2696 - val_accuracy: 0.8844\n",
      "Epoch 3/10\n",
      "625/625 [==============================] - 23s 38ms/step - loss: 0.1566 - accuracy: 0.9420 - val_loss: 0.2670 - val_accuracy: 0.8960\n",
      "Epoch 4/10\n",
      "625/625 [==============================] - 24s 38ms/step - loss: 0.1225 - accuracy: 0.9565 - val_loss: 0.3266 - val_accuracy: 0.8763\n",
      "Epoch 5/10\n",
      "625/625 [==============================] - 24s 38ms/step - loss: 0.0948 - accuracy: 0.9678 - val_loss: 0.3205 - val_accuracy: 0.8885\n",
      "Epoch 6/10\n",
      "625/625 [==============================] - ETA: 0s - loss: 0.0692 - accuracy: 0.9771Restoring model weights from the end of the best epoch.\n",
      "625/625 [==============================] - 23s 38ms/step - loss: 0.0692 - accuracy: 0.9771 - val_loss: 0.3862 - val_accuracy: 0.8832\n",
      "Epoch 00006: early stopping\n",
      "313/313 [==============================] - 4s 12ms/step - loss: 0.2667 - accuracy: 0.8960\n",
      "******* Fold 2 ***********\n",
      "Epoch 1/10\n",
      "625/625 [==============================] - 24s 39ms/step - loss: 0.3979 - accuracy: 0.8099 - val_loss: 0.2716 - val_accuracy: 0.8893\n",
      "Epoch 2/10\n",
      "625/625 [==============================] - 24s 38ms/step - loss: 0.2311 - accuracy: 0.9063 - val_loss: 0.2595 - val_accuracy: 0.8935\n",
      "Epoch 3/10\n",
      "625/625 [==============================] - 23s 37ms/step - loss: 0.1796 - accuracy: 0.9319 - val_loss: 0.2762 - val_accuracy: 0.8857\n",
      "Epoch 4/10\n",
      "625/625 [==============================] - 23s 38ms/step - loss: 0.1441 - accuracy: 0.9487 - val_loss: 0.2913 - val_accuracy: 0.8881\n",
      "Epoch 5/10\n",
      "625/625 [==============================] - ETA: 0s - loss: 0.1170 - accuracy: 0.9596Restoring model weights from the end of the best epoch.\n",
      "625/625 [==============================] - 24s 38ms/step - loss: 0.1170 - accuracy: 0.9596 - val_loss: 0.3259 - val_accuracy: 0.8900\n",
      "Epoch 00005: early stopping\n",
      "313/313 [==============================] - 4s 12ms/step - loss: 0.2590 - accuracy: 0.8935\n",
      "******* Fold 3 ***********\n",
      "Epoch 1/10\n",
      "625/625 [==============================] - 24s 38ms/step - loss: 0.3673 - accuracy: 0.8220 - val_loss: 0.2792 - val_accuracy: 0.8888\n",
      "Epoch 2/10\n",
      "625/625 [==============================] - 24s 38ms/step - loss: 0.2052 - accuracy: 0.9188 - val_loss: 0.2620 - val_accuracy: 0.8964\n",
      "Epoch 3/10\n",
      "625/625 [==============================] - 24s 38ms/step - loss: 0.1606 - accuracy: 0.9384 - val_loss: 0.2712 - val_accuracy: 0.8956\n",
      "Epoch 4/10\n",
      "625/625 [==============================] - 23s 37ms/step - loss: 0.1221 - accuracy: 0.9578 - val_loss: 0.3133 - val_accuracy: 0.8915\n",
      "Epoch 5/10\n",
      "624/625 [============================>.] - ETA: 0s - loss: 0.0925 - accuracy: 0.9679Restoring model weights from the end of the best epoch.\n",
      "625/625 [==============================] - 24s 38ms/step - loss: 0.0925 - accuracy: 0.9679 - val_loss: 0.3553 - val_accuracy: 0.8891\n",
      "Epoch 00005: early stopping\n",
      "313/313 [==============================] - 4s 12ms/step - loss: 0.2615 - accuracy: 0.8964\n",
      "******* Fold 4 ***********\n",
      "Epoch 1/10\n",
      "625/625 [==============================] - 24s 39ms/step - loss: 0.4287 - accuracy: 0.7987 - val_loss: 0.2890 - val_accuracy: 0.8795\n",
      "Epoch 2/10\n",
      "625/625 [==============================] - 24s 38ms/step - loss: 0.2243 - accuracy: 0.9110 - val_loss: 0.2585 - val_accuracy: 0.8975\n",
      "Epoch 3/10\n",
      "625/625 [==============================] - 24s 38ms/step - loss: 0.1740 - accuracy: 0.9347 - val_loss: 0.2824 - val_accuracy: 0.8973\n",
      "Epoch 4/10\n",
      "625/625 [==============================] - 24s 38ms/step - loss: 0.1362 - accuracy: 0.9506 - val_loss: 0.2791 - val_accuracy: 0.8942\n",
      "Epoch 5/10\n",
      "625/625 [==============================] - ETA: 0s - loss: 0.1052 - accuracy: 0.9640Restoring model weights from the end of the best epoch.\n",
      "625/625 [==============================] - 24s 38ms/step - loss: 0.1052 - accuracy: 0.9640 - val_loss: 0.3360 - val_accuracy: 0.8901\n",
      "Epoch 00005: early stopping\n",
      "313/313 [==============================] - 4s 12ms/step - loss: 0.2582 - accuracy: 0.8975\n",
      "******* Fold 5 ***********\n",
      "Epoch 1/10\n",
      "625/625 [==============================] - 24s 38ms/step - loss: 0.3607 - accuracy: 0.8273 - val_loss: 0.2574 - val_accuracy: 0.8978\n",
      "Epoch 2/10\n",
      "625/625 [==============================] - 24s 38ms/step - loss: 0.2034 - accuracy: 0.9204 - val_loss: 0.2447 - val_accuracy: 0.9015\n",
      "Epoch 3/10\n",
      "625/625 [==============================] - 24s 38ms/step - loss: 0.1592 - accuracy: 0.9403 - val_loss: 0.2607 - val_accuracy: 0.8997\n",
      "Epoch 4/10\n",
      "625/625 [==============================] - 24s 38ms/step - loss: 0.1286 - accuracy: 0.9532 - val_loss: 0.2935 - val_accuracy: 0.8948\n",
      "Epoch 5/10\n",
      "625/625 [==============================] - ETA: 0s - loss: 0.0972 - accuracy: 0.9661Restoring model weights from the end of the best epoch.\n",
      "625/625 [==============================] - 24s 38ms/step - loss: 0.0972 - accuracy: 0.9661 - val_loss: 0.3276 - val_accuracy: 0.8951\n",
      "Epoch 00005: early stopping\n",
      "313/313 [==============================] - 4s 12ms/step - loss: 0.2449 - accuracy: 0.9015\n",
      "Average accuracy = 89.70 %\n"
     ],
     "name": "stdout"
    }
   ]
  },
  {
   "cell_type": "markdown",
   "metadata": {
    "id": "HoOI0hJSgeJu",
    "colab_type": "text"
   },
   "source": [
    "## CNN"
   ]
  },
  {
   "cell_type": "code",
   "metadata": {
    "id": "yWXdFuzTgfLs",
    "colab_type": "code",
    "outputId": "76aee1c5-29be-49fd-b7b4-1936745c6abf",
    "colab": {
     "base_uri": "https://localhost:8080/",
     "height": 1000
    }
   },
   "source": [
    "kfold = StratifiedKFold(n_splits=5, shuffle=True, random_state=1)\n",
    "fold = 0\n",
    "results = list()\n",
    "filters = 64\n",
    "kernel_size = 3\n",
    "\n",
    "early_stopping = keras.callbacks.EarlyStopping(monitor='val_accuracy',\n",
    "                                        min_delta=0,\n",
    "                                        patience=3,\n",
    "                                        verbose=1,\n",
    "                                        mode='auto',\n",
    "                                        restore_best_weights=True)\n",
    "\n",
    "for train, test in kfold.split(df['SentimentText'], y):\n",
    "    print(f\"******* Fold {fold + 1} ***********\")\n",
    "    model = keras.models.Sequential([\n",
    "        keras.layers.Embedding(max_dictionary_size, 16, input_length=max_length),\n",
    "        keras.layers.Conv1D(filters, kernel_size, activation=\"relu\"),\n",
    "        keras.layers.GlobalMaxPooling1D(),\n",
    "        keras.layers.Dense(64),\n",
    "        keras.layers.Activation(\"relu\"),\n",
    "        keras.layers.Dense(1, activation=\"sigmoid\")                                \n",
    "    ])\n",
    "\n",
    "    model.compile(loss=\"binary_crossentropy\", optimizer=\"adam\", metrics=['accuracy'])\n",
    "    model.fit(X_t[train],y[train], batch_size=32, epochs=10, validation_data=(X_t[test], y[test]), callbacks=[early_stopping])\n",
    "    scores = model.evaluate(X_t[test], y[test])\n",
    "    results.append(scores[1])\n",
    "    fold += 1\n",
    "print(f\"Average accuracy = {sum(results)/fold * 100:0.2f} %\")"
   ],
   "execution_count": 0,
   "outputs": [
    {
     "output_type": "stream",
     "text": [
      "******* Fold 1 ***********\n",
      "Epoch 1/10\n",
      "1250/1250 [==============================] - 6s 5ms/step - loss: 0.3794 - accuracy: 0.8219 - val_loss: 0.2620 - val_accuracy: 0.8913\n",
      "Epoch 2/10\n",
      "1250/1250 [==============================] - 6s 5ms/step - loss: 0.2044 - accuracy: 0.9191 - val_loss: 0.2562 - val_accuracy: 0.8937\n",
      "Epoch 3/10\n",
      "1250/1250 [==============================] - 6s 5ms/step - loss: 0.1292 - accuracy: 0.9550 - val_loss: 0.2746 - val_accuracy: 0.8956\n",
      "Epoch 4/10\n",
      "1250/1250 [==============================] - 6s 5ms/step - loss: 0.0706 - accuracy: 0.9771 - val_loss: 0.3290 - val_accuracy: 0.8922\n",
      "Epoch 5/10\n",
      "1250/1250 [==============================] - 6s 5ms/step - loss: 0.0356 - accuracy: 0.9899 - val_loss: 0.3950 - val_accuracy: 0.8886\n",
      "Epoch 6/10\n",
      "1241/1250 [============================>.] - ETA: 0s - loss: 0.0180 - accuracy: 0.9949Restoring model weights from the end of the best epoch.\n",
      "1250/1250 [==============================] - 6s 5ms/step - loss: 0.0180 - accuracy: 0.9949 - val_loss: 0.4755 - val_accuracy: 0.8892\n",
      "Epoch 00006: early stopping\n",
      "313/313 [==============================] - 1s 2ms/step - loss: 0.2746 - accuracy: 0.8956\n",
      "******* Fold 2 ***********\n",
      "Epoch 1/10\n",
      "1250/1250 [==============================] - 7s 5ms/step - loss: 0.3803 - accuracy: 0.8214 - val_loss: 0.2753 - val_accuracy: 0.8847\n",
      "Epoch 2/10\n",
      "1250/1250 [==============================] - 6s 5ms/step - loss: 0.2099 - accuracy: 0.9154 - val_loss: 0.2541 - val_accuracy: 0.8953\n",
      "Epoch 3/10\n",
      "1250/1250 [==============================] - 6s 5ms/step - loss: 0.1320 - accuracy: 0.9520 - val_loss: 0.2694 - val_accuracy: 0.8956\n",
      "Epoch 4/10\n",
      "1250/1250 [==============================] - 6s 5ms/step - loss: 0.0718 - accuracy: 0.9771 - val_loss: 0.3175 - val_accuracy: 0.8969\n",
      "Epoch 5/10\n",
      "1250/1250 [==============================] - 6s 5ms/step - loss: 0.0364 - accuracy: 0.9889 - val_loss: 0.3980 - val_accuracy: 0.8894\n",
      "Epoch 6/10\n",
      "1250/1250 [==============================] - 7s 5ms/step - loss: 0.0178 - accuracy: 0.9952 - val_loss: 0.4936 - val_accuracy: 0.8901\n",
      "Epoch 7/10\n",
      "1248/1250 [============================>.] - ETA: 0s - loss: 0.0137 - accuracy: 0.9961Restoring model weights from the end of the best epoch.\n",
      "1250/1250 [==============================] - 7s 6ms/step - loss: 0.0137 - accuracy: 0.9961 - val_loss: 0.5358 - val_accuracy: 0.8914\n",
      "Epoch 00007: early stopping\n",
      "313/313 [==============================] - 1s 2ms/step - loss: 0.3175 - accuracy: 0.8969\n",
      "******* Fold 3 ***********\n",
      "Epoch 1/10\n",
      "1250/1250 [==============================] - 6s 5ms/step - loss: 0.3811 - accuracy: 0.8203 - val_loss: 0.2665 - val_accuracy: 0.8865\n",
      "Epoch 2/10\n",
      "1250/1250 [==============================] - 6s 5ms/step - loss: 0.2087 - accuracy: 0.9172 - val_loss: 0.2494 - val_accuracy: 0.9017\n",
      "Epoch 3/10\n",
      "1250/1250 [==============================] - 6s 5ms/step - loss: 0.1322 - accuracy: 0.9520 - val_loss: 0.2654 - val_accuracy: 0.8959\n",
      "Epoch 4/10\n",
      "1250/1250 [==============================] - 6s 5ms/step - loss: 0.0741 - accuracy: 0.9756 - val_loss: 0.3159 - val_accuracy: 0.8944\n",
      "Epoch 5/10\n",
      "1241/1250 [============================>.] - ETA: 0s - loss: 0.0381 - accuracy: 0.9882Restoring model weights from the end of the best epoch.\n",
      "1250/1250 [==============================] - 7s 5ms/step - loss: 0.0385 - accuracy: 0.9881 - val_loss: 0.3946 - val_accuracy: 0.8890\n",
      "Epoch 00005: early stopping\n",
      "313/313 [==============================] - 1s 2ms/step - loss: 0.2494 - accuracy: 0.9017\n",
      "******* Fold 4 ***********\n",
      "Epoch 1/10\n",
      "1250/1250 [==============================] - 7s 5ms/step - loss: 0.3707 - accuracy: 0.8254 - val_loss: 0.2710 - val_accuracy: 0.8892\n",
      "Epoch 2/10\n",
      "1250/1250 [==============================] - 6s 5ms/step - loss: 0.2010 - accuracy: 0.9205 - val_loss: 0.2644 - val_accuracy: 0.8920\n",
      "Epoch 3/10\n",
      "1250/1250 [==============================] - 6s 5ms/step - loss: 0.1249 - accuracy: 0.9552 - val_loss: 0.2878 - val_accuracy: 0.8934\n",
      "Epoch 4/10\n",
      "1250/1250 [==============================] - 6s 5ms/step - loss: 0.0681 - accuracy: 0.9777 - val_loss: 0.3535 - val_accuracy: 0.8889\n",
      "Epoch 5/10\n",
      "1250/1250 [==============================] - 6s 5ms/step - loss: 0.0328 - accuracy: 0.9907 - val_loss: 0.4046 - val_accuracy: 0.8902\n",
      "Epoch 6/10\n",
      "1240/1250 [============================>.] - ETA: 0s - loss: 0.0166 - accuracy: 0.9952Restoring model weights from the end of the best epoch.\n",
      "1250/1250 [==============================] - 6s 5ms/step - loss: 0.0167 - accuracy: 0.9952 - val_loss: 0.4902 - val_accuracy: 0.8872\n",
      "Epoch 00006: early stopping\n",
      "313/313 [==============================] - 1s 2ms/step - loss: 0.2878 - accuracy: 0.8934\n",
      "******* Fold 5 ***********\n",
      "Epoch 1/10\n",
      "1250/1250 [==============================] - 6s 5ms/step - loss: 0.3694 - accuracy: 0.8267 - val_loss: 0.2700 - val_accuracy: 0.8890\n",
      "Epoch 2/10\n",
      "1250/1250 [==============================] - 6s 5ms/step - loss: 0.2103 - accuracy: 0.9171 - val_loss: 0.2564 - val_accuracy: 0.8986\n",
      "Epoch 3/10\n",
      "1250/1250 [==============================] - 6s 5ms/step - loss: 0.1377 - accuracy: 0.9495 - val_loss: 0.2845 - val_accuracy: 0.8924\n",
      "Epoch 4/10\n",
      "1250/1250 [==============================] - 6s 5ms/step - loss: 0.0796 - accuracy: 0.9728 - val_loss: 0.3339 - val_accuracy: 0.8905\n",
      "Epoch 5/10\n",
      "1243/1250 [============================>.] - ETA: 0s - loss: 0.0408 - accuracy: 0.9878Restoring model weights from the end of the best epoch.\n",
      "1250/1250 [==============================] - 6s 5ms/step - loss: 0.0409 - accuracy: 0.9877 - val_loss: 0.4206 - val_accuracy: 0.8866\n",
      "Epoch 00005: early stopping\n",
      "313/313 [==============================] - 1s 2ms/step - loss: 0.2564 - accuracy: 0.8986\n",
      "Average accuracy = 89.72 %\n"
     ],
     "name": "stdout"
    }
   ]
  }
 ]
}