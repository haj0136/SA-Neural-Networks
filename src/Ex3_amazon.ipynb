{
 "nbformat": 4,
 "nbformat_minor": 0,
 "metadata": {
  "colab": {
   "name": "SA_NN_Large.ipynb",
   "provenance": [],
   "collapsed_sections": [
    "DjnRXPzdEtY2",
    "01aExgoxEb8R",
    "QBJqC9fEsCjx",
    "WhpxjnWBsE4Z",
    "Z5QI0Eh2PXgs",
    "GF2iviHyXwMy",
    "pd-4Urlfc5sZ",
    "jq24x7h_592v",
    "m55FVppqo82Z",
    "K49GAh0orRrw",
    "sc4Uc1Xq2zd0",
    "r3renL2uYUVP",
    "gpJEL2irGEvj",
    "HUNZFkbZ9EXc",
    "Du-f9L5eiHeC",
    "tXWBPeAriQCS",
    "5J_hJwxciSw2"
   ],
   "toc_visible": true,
   "machine_shape": "hm"
  },
  "kernelspec": {
   "name": "python3",
   "display_name": "Python 3"
  },
  "accelerator": "GPU",
  "pycharm": {
   "stem_cell": {
    "cell_type": "raw",
    "source": [],
    "metadata": {
     "collapsed": false
    }
   }
  }
 },
 "cells": [
  {
   "cell_type": "markdown",
   "metadata": {
    "id": "evtkhqyAsmcb",
    "colab_type": "text"
   },
   "source": [
    "# Imports"
   ]
  },
  {
   "cell_type": "code",
   "metadata": {
    "id": "LHYq2hGMXozE",
    "colab_type": "code",
    "outputId": "ca850bbe-40f9-4a8f-d5b9-ff4244051b09",
    "colab": {
     "base_uri": "https://localhost:8080/",
     "height": 90
    }
   },
   "source": [
    "import pandas as pd\n",
    "import numpy as np\n",
    "import re\n",
    "import tensorflow.compat.v2 as tf \n",
    "from keras.preprocessing.text import Tokenizer\n",
    "from keras.preprocessing.sequence import pad_sequences\n",
    "import tensorflow.keras as keras\n",
    "import matplotlib.pyplot as plt\n",
    "import seaborn as sb\n",
    "\n",
    "tf.version.VERSION"
   ],
   "execution_count": 0,
   "outputs": [
    {
     "output_type": "stream",
     "text": [
      "Using TensorFlow backend.\n",
      "/usr/local/lib/python3.6/dist-packages/statsmodels/tools/_testing.py:19: FutureWarning: pandas.util.testing is deprecated. Use the functions in the public API at pandas.testing instead.\n",
      "  import pandas.util.testing as tm\n"
     ],
     "name": "stderr"
    },
    {
     "output_type": "execute_result",
     "data": {
      "text/plain": [
       "'2.2.0-rc3'"
      ]
     },
     "metadata": {
      "tags": []
     },
     "execution_count": 1
    }
   ]
  },
  {
   "cell_type": "code",
   "metadata": {
    "id": "qtF4olXzh0tO",
    "colab_type": "code",
    "colab": {}
   },
   "source": [
    "def show_history(history):\n",
    "    plt.figure()\n",
    "    for key in history.history.keys():\n",
    "        plt.plot(history.epoch, history.history[key], label=key)\n",
    "    plt.legend()\n",
    "    plt.tight_layout()"
   ],
   "execution_count": 0,
   "outputs": []
  },
  {
   "cell_type": "markdown",
   "metadata": {
    "id": "E9upoqF8VkUy",
    "colab_type": "text"
   },
   "source": [
    "# Preprocessing methods"
   ]
  },
  {
   "cell_type": "code",
   "metadata": {
    "id": "suySeO_EVp4j",
    "colab_type": "code",
    "colab": {}
   },
   "source": [
    "def remove_punctuation(text):\n",
    "    text = re.sub(r'[^\\w\\s]','',text)\n",
    "    return text"
   ],
   "execution_count": 0,
   "outputs": []
  },
  {
   "cell_type": "markdown",
   "metadata": {
    "id": "S0I3klrjWMua",
    "colab_type": "text"
   },
   "source": [
    "Proccesing method"
   ]
  },
  {
   "cell_type": "code",
   "metadata": {
    "id": "x_8kttxzWP0S",
    "colab_type": "code",
    "colab": {}
   },
   "source": [
    "def preprocess_train(data, functions):\n",
    "    _data = pd.DataFrame(data['SentimentText'])\n",
    "    for function in functions:\n",
    "        _data['SentimentText'] = _data['SentimentText'].apply(lambda x: function(x))\n",
    "    _row_sizes = _data['SentimentText'].str.split().str.len()\n",
    "    print(f\"Words count: {pd.Series.sum(_row_sizes)}\")\n",
    "    print(_data)\n",
    "    return _data"
   ],
   "execution_count": 0,
   "outputs": []
  },
  {
   "cell_type": "markdown",
   "metadata": {
    "id": "QjGpJCAfVP4R",
    "colab_type": "text"
   },
   "source": [
    "# AMAZON"
   ]
  },
  {
   "cell_type": "markdown",
   "metadata": {
    "id": "MN9EZRWe5sHk",
    "colab_type": "text"
   },
   "source": [
    "## Load Data"
   ]
  },
  {
   "cell_type": "markdown",
   "metadata": {
    "id": "BYi_1tLgETTJ",
    "colab_type": "text"
   },
   "source": [
    "### Train data"
   ]
  },
  {
   "cell_type": "code",
   "metadata": {
    "id": "Axbsu-pDl7-Q",
    "colab_type": "code",
    "outputId": "945bcd3c-01a8-41c1-805a-66acaada1826",
    "colab": {
     "base_uri": "https://localhost:8080/",
     "height": 442
    }
   },
   "source": [
    "path = \"../data/AmazonTrainSet1M.tsv\"\n",
    "amazonData = pd.read_csv(path, sep='\\t', header=0, encoding=\"utf-8\")\n",
    "row_sizes = amazonData['SentimentText'].str.split().str.len()\n",
    "amazonData['SentimentText'] = amazonData['SentimentText'].str.lower()\n",
    "print(f\"Words count: {pd.Series.sum(row_sizes)}\")\n",
    "amazonData"
   ],
   "execution_count": 0,
   "outputs": [
    {
     "output_type": "stream",
     "text": [
      "Words count: 78450202\n"
     ],
     "name": "stdout"
    },
    {
     "output_type": "execute_result",
     "data": {
      "text/html": [
       "<div>\n",
       "<style scoped>\n",
       "    .dataframe tbody tr th:only-of-type {\n",
       "        vertical-align: middle;\n",
       "    }\n",
       "\n",
       "    .dataframe tbody tr th {\n",
       "        vertical-align: top;\n",
       "    }\n",
       "\n",
       "    .dataframe thead th {\n",
       "        text-align: right;\n",
       "    }\n",
       "</style>\n",
       "<table border=\"1\" class=\"dataframe\">\n",
       "  <thead>\n",
       "    <tr style=\"text-align: right;\">\n",
       "      <th></th>\n",
       "      <th>Sentiment</th>\n",
       "      <th>SentimentText</th>\n",
       "    </tr>\n",
       "  </thead>\n",
       "  <tbody>\n",
       "    <tr>\n",
       "      <th>0</th>\n",
       "      <td>0</td>\n",
       "      <td>defective: i was really excited to get the fis...</td>\n",
       "    </tr>\n",
       "    <tr>\n",
       "      <th>1</th>\n",
       "      <td>1</td>\n",
       "      <td>m-audio 2496 sound card: excellent sound card ...</td>\n",
       "    </tr>\n",
       "    <tr>\n",
       "      <th>2</th>\n",
       "      <td>0</td>\n",
       "      <td>missing links: it's a shame the quality of thi...</td>\n",
       "    </tr>\n",
       "    <tr>\n",
       "      <th>3</th>\n",
       "      <td>0</td>\n",
       "      <td>tribute album: this is a tribute album...i did...</td>\n",
       "    </tr>\n",
       "    <tr>\n",
       "      <th>4</th>\n",
       "      <td>1</td>\n",
       "      <td>pretty good: it does taste pretty good and is ...</td>\n",
       "    </tr>\n",
       "    <tr>\n",
       "      <th>...</th>\n",
       "      <td>...</td>\n",
       "      <td>...</td>\n",
       "    </tr>\n",
       "    <tr>\n",
       "      <th>999995</th>\n",
       "      <td>1</td>\n",
       "      <td>tlc...... need i say more: tlc is the best gro...</td>\n",
       "    </tr>\n",
       "    <tr>\n",
       "      <th>999996</th>\n",
       "      <td>1</td>\n",
       "      <td>alternative ending: an excellent book no doubt...</td>\n",
       "    </tr>\n",
       "    <tr>\n",
       "      <th>999997</th>\n",
       "      <td>1</td>\n",
       "      <td>p-town series: i read these out of order becau...</td>\n",
       "    </tr>\n",
       "    <tr>\n",
       "      <th>999998</th>\n",
       "      <td>0</td>\n",
       "      <td>pretty sad....: this book would play out bette...</td>\n",
       "    </tr>\n",
       "    <tr>\n",
       "      <th>999999</th>\n",
       "      <td>1</td>\n",
       "      <td>awesome funky jazz band, definetly check them ...</td>\n",
       "    </tr>\n",
       "  </tbody>\n",
       "</table>\n",
       "<p>1000000 rows × 2 columns</p>\n",
       "</div>"
      ],
      "text/plain": [
       "        Sentiment                                      SentimentText\n",
       "0               0  defective: i was really excited to get the fis...\n",
       "1               1  m-audio 2496 sound card: excellent sound card ...\n",
       "2               0  missing links: it's a shame the quality of thi...\n",
       "3               0  tribute album: this is a tribute album...i did...\n",
       "4               1  pretty good: it does taste pretty good and is ...\n",
       "...           ...                                                ...\n",
       "999995          1  tlc...... need i say more: tlc is the best gro...\n",
       "999996          1  alternative ending: an excellent book no doubt...\n",
       "999997          1  p-town series: i read these out of order becau...\n",
       "999998          0  pretty sad....: this book would play out bette...\n",
       "999999          1  awesome funky jazz band, definetly check them ...\n",
       "\n",
       "[1000000 rows x 2 columns]"
      ]
     },
     "metadata": {
      "tags": []
     },
     "execution_count": 6
    }
   ]
  },
  {
   "cell_type": "markdown",
   "metadata": {
    "id": "a8ixuHhHEZi2",
    "colab_type": "text"
   },
   "source": [
    "### Test data"
   ]
  },
  {
   "cell_type": "code",
   "metadata": {
    "id": "23FKD56rEx_I",
    "colab_type": "code",
    "outputId": "56afdf8c-d7e3-4c90-dc58-d9879abd4ed0",
    "colab": {
     "base_uri": "https://localhost:8080/",
     "height": 442
    }
   },
   "source": [
    "import csv\n",
    "path = \"../data/AmazonTestSet400k2.tsv\"\n",
    "testData = pd.read_csv(path, sep='\\t', header=0, encoding=\"utf-8\") # , quoting=csv.QUOTE_NONE\n",
    "row_sizes = testData['SentimentText'].str.split().str.len()\n",
    "testData['SentimentText'] = testData['SentimentText'].str.lower()\n",
    "print(f\"Words count: {pd.Series.sum(row_sizes)}\")\n",
    "testData"
   ],
   "execution_count": 0,
   "outputs": [
    {
     "output_type": "stream",
     "text": [
      "Words count: 31369658\n"
     ],
     "name": "stdout"
    },
    {
     "output_type": "execute_result",
     "data": {
      "text/html": [
       "<div>\n",
       "<style scoped>\n",
       "    .dataframe tbody tr th:only-of-type {\n",
       "        vertical-align: middle;\n",
       "    }\n",
       "\n",
       "    .dataframe tbody tr th {\n",
       "        vertical-align: top;\n",
       "    }\n",
       "\n",
       "    .dataframe thead th {\n",
       "        text-align: right;\n",
       "    }\n",
       "</style>\n",
       "<table border=\"1\" class=\"dataframe\">\n",
       "  <thead>\n",
       "    <tr style=\"text-align: right;\">\n",
       "      <th></th>\n",
       "      <th>Sentiment</th>\n",
       "      <th>SentimentText</th>\n",
       "    </tr>\n",
       "  </thead>\n",
       "  <tbody>\n",
       "    <tr>\n",
       "      <th>0</th>\n",
       "      <td>1</td>\n",
       "      <td>this is a great book: i must preface this by s...</td>\n",
       "    </tr>\n",
       "    <tr>\n",
       "      <th>1</th>\n",
       "      <td>0</td>\n",
       "      <td>huge disappointment.: as a big time, long term...</td>\n",
       "    </tr>\n",
       "    <tr>\n",
       "      <th>2</th>\n",
       "      <td>1</td>\n",
       "      <td>wayne is tight but cant hang with turk.: this ...</td>\n",
       "    </tr>\n",
       "    <tr>\n",
       "      <th>3</th>\n",
       "      <td>1</td>\n",
       "      <td>excellent: i read this book when i was in elem...</td>\n",
       "    </tr>\n",
       "    <tr>\n",
       "      <th>4</th>\n",
       "      <td>0</td>\n",
       "      <td>not about anusara: although this book is toute...</td>\n",
       "    </tr>\n",
       "    <tr>\n",
       "      <th>...</th>\n",
       "      <td>...</td>\n",
       "      <td>...</td>\n",
       "    </tr>\n",
       "    <tr>\n",
       "      <th>399995</th>\n",
       "      <td>0</td>\n",
       "      <td>you can fool all the people some of the time b...</td>\n",
       "    </tr>\n",
       "    <tr>\n",
       "      <th>399996</th>\n",
       "      <td>0</td>\n",
       "      <td>it was good but not good: it was an 'okay' boo...</td>\n",
       "    </tr>\n",
       "    <tr>\n",
       "      <th>399997</th>\n",
       "      <td>0</td>\n",
       "      <td>unwatchable: the product arrived promptly and ...</td>\n",
       "    </tr>\n",
       "    <tr>\n",
       "      <th>399998</th>\n",
       "      <td>0</td>\n",
       "      <td>not worth the money or the time to read.: the ...</td>\n",
       "    </tr>\n",
       "    <tr>\n",
       "      <th>399999</th>\n",
       "      <td>1</td>\n",
       "      <td>a nice shift into a gifted mind with multiple ...</td>\n",
       "    </tr>\n",
       "  </tbody>\n",
       "</table>\n",
       "<p>400000 rows × 2 columns</p>\n",
       "</div>"
      ],
      "text/plain": [
       "        Sentiment                                      SentimentText\n",
       "0               1  this is a great book: i must preface this by s...\n",
       "1               0  huge disappointment.: as a big time, long term...\n",
       "2               1  wayne is tight but cant hang with turk.: this ...\n",
       "3               1  excellent: i read this book when i was in elem...\n",
       "4               0  not about anusara: although this book is toute...\n",
       "...           ...                                                ...\n",
       "399995          0  you can fool all the people some of the time b...\n",
       "399996          0  it was good but not good: it was an 'okay' boo...\n",
       "399997          0  unwatchable: the product arrived promptly and ...\n",
       "399998          0  not worth the money or the time to read.: the ...\n",
       "399999          1  a nice shift into a gifted mind with multiple ...\n",
       "\n",
       "[400000 rows x 2 columns]"
      ]
     },
     "metadata": {
      "tags": []
     },
     "execution_count": 7
    }
   ]
  },
  {
   "cell_type": "markdown",
   "metadata": {
    "id": "01aExgoxEb8R",
    "colab_type": "text"
   },
   "source": [
    "### Validation data"
   ]
  },
  {
   "cell_type": "code",
   "metadata": {
    "id": "SINIao6iEeH2",
    "colab_type": "code",
    "outputId": "b2f324fd-7dd6-4ee2-a2fa-51969d712ac7",
    "colab": {
     "base_uri": "https://localhost:8080/",
     "height": 442
    }
   },
   "source": [
    "path = \"../data/AmazonValidationSet100K.tsv\"\n",
    "validation_data = pd.read_csv(path, sep='\\t', header=0, encoding=\"utf-8\") # , quoting=csv.QUOTE_NONE\n",
    "row_sizes = validation_data['SentimentText'].str.split().str.len()\n",
    "validation_data['SentimentText'] = validation_data['SentimentText'].str.lower()\n",
    "print(f\"Words count: {pd.Series.sum(row_sizes)}\")\n",
    "validation_data"
   ],
   "execution_count": 0,
   "outputs": [
    {
     "output_type": "stream",
     "text": [
      "Words count: 7826428\n"
     ],
     "name": "stdout"
    },
    {
     "output_type": "execute_result",
     "data": {
      "text/html": [
       "<div>\n",
       "<style scoped>\n",
       "    .dataframe tbody tr th:only-of-type {\n",
       "        vertical-align: middle;\n",
       "    }\n",
       "\n",
       "    .dataframe tbody tr th {\n",
       "        vertical-align: top;\n",
       "    }\n",
       "\n",
       "    .dataframe thead th {\n",
       "        text-align: right;\n",
       "    }\n",
       "</style>\n",
       "<table border=\"1\" class=\"dataframe\">\n",
       "  <thead>\n",
       "    <tr style=\"text-align: right;\">\n",
       "      <th></th>\n",
       "      <th>Sentiment</th>\n",
       "      <th>SentimentText</th>\n",
       "    </tr>\n",
       "  </thead>\n",
       "  <tbody>\n",
       "    <tr>\n",
       "      <th>0</th>\n",
       "      <td>0</td>\n",
       "      <td>just another political opinion disguised as hi...</td>\n",
       "    </tr>\n",
       "    <tr>\n",
       "      <th>1</th>\n",
       "      <td>0</td>\n",
       "      <td>the big bad maniac magee review: i did not lik...</td>\n",
       "    </tr>\n",
       "    <tr>\n",
       "      <th>2</th>\n",
       "      <td>1</td>\n",
       "      <td>a good cable: the cable does exactly what it i...</td>\n",
       "    </tr>\n",
       "    <tr>\n",
       "      <th>3</th>\n",
       "      <td>0</td>\n",
       "      <td>it stinks!: it's so bad it should come with a ...</td>\n",
       "    </tr>\n",
       "    <tr>\n",
       "      <th>4</th>\n",
       "      <td>0</td>\n",
       "      <td>do women really take this seriously?: i picked...</td>\n",
       "    </tr>\n",
       "    <tr>\n",
       "      <th>...</th>\n",
       "      <td>...</td>\n",
       "      <td>...</td>\n",
       "    </tr>\n",
       "    <tr>\n",
       "      <th>99995</th>\n",
       "      <td>1</td>\n",
       "      <td>nice surprise: expecting this older mystery to...</td>\n",
       "    </tr>\n",
       "    <tr>\n",
       "      <th>99996</th>\n",
       "      <td>0</td>\n",
       "      <td>huh?: i fail to see the purpose of this book. ...</td>\n",
       "    </tr>\n",
       "    <tr>\n",
       "      <th>99997</th>\n",
       "      <td>0</td>\n",
       "      <td>don't buy this cirque du (school)!: i love cir...</td>\n",
       "    </tr>\n",
       "    <tr>\n",
       "      <th>99998</th>\n",
       "      <td>1</td>\n",
       "      <td>soft-edged, just a bit undercharacterized: bou...</td>\n",
       "    </tr>\n",
       "    <tr>\n",
       "      <th>99999</th>\n",
       "      <td>1</td>\n",
       "      <td>a very useful work: published in 1949, this is...</td>\n",
       "    </tr>\n",
       "  </tbody>\n",
       "</table>\n",
       "<p>100000 rows × 2 columns</p>\n",
       "</div>"
      ],
      "text/plain": [
       "       Sentiment                                      SentimentText\n",
       "0              0  just another political opinion disguised as hi...\n",
       "1              0  the big bad maniac magee review: i did not lik...\n",
       "2              1  a good cable: the cable does exactly what it i...\n",
       "3              0  it stinks!: it's so bad it should come with a ...\n",
       "4              0  do women really take this seriously?: i picked...\n",
       "...          ...                                                ...\n",
       "99995          1  nice surprise: expecting this older mystery to...\n",
       "99996          0  huh?: i fail to see the purpose of this book. ...\n",
       "99997          0  don't buy this cirque du (school)!: i love cir...\n",
       "99998          1  soft-edged, just a bit undercharacterized: bou...\n",
       "99999          1  a very useful work: published in 1949, this is...\n",
       "\n",
       "[100000 rows x 2 columns]"
      ]
     },
     "metadata": {
      "tags": []
     },
     "execution_count": 8
    }
   ]
  },
  {
   "cell_type": "markdown",
   "metadata": {
    "id": "uYI97DKR53Eh",
    "colab_type": "text"
   },
   "source": [
    "## Preprocessing"
   ]
  },
  {
   "cell_type": "code",
   "metadata": {
    "id": "BxgYdigE48Rf",
    "colab_type": "code",
    "outputId": "e69b8b52-5aed-4bed-a312-40db0e8430cd",
    "colab": {
     "base_uri": "https://localhost:8080/",
     "height": 293
    }
   },
   "source": [
    "df = preprocess_train(amazonData, [])"
   ],
   "execution_count": 0,
   "outputs": [
    {
     "output_type": "stream",
     "text": [
      "Words count: 78450202\n",
      "                                            SentimentText\n",
      "0       defective: i was really excited to get the fis...\n",
      "1       m-audio 2496 sound card: excellent sound card ...\n",
      "2       missing links: it's a shame the quality of thi...\n",
      "3       tribute album: this is a tribute album...i did...\n",
      "4       pretty good: it does taste pretty good and is ...\n",
      "...                                                   ...\n",
      "999995  tlc...... need i say more: tlc is the best gro...\n",
      "999996  alternative ending: an excellent book no doubt...\n",
      "999997  p-town series: i read these out of order becau...\n",
      "999998  pretty sad....: this book would play out bette...\n",
      "999999  awesome funky jazz band, definetly check them ...\n",
      "\n",
      "[1000000 rows x 1 columns]\n"
     ],
     "name": "stdout"
    }
   ]
  },
  {
   "cell_type": "markdown",
   "metadata": {
    "id": "pd-4Urlfc5sZ",
    "colab_type": "text"
   },
   "source": [
    "### Feature extraction for embedding layer"
   ]
  },
  {
   "cell_type": "code",
   "metadata": {
    "id": "o2n_cwe365ja",
    "colab_type": "code",
    "colab": {}
   },
   "source": [
    "df['review_lenght'] = np.array(list(map(lambda x: len(x.split()), df['SentimentText'])))\n",
    "median = df['review_lenght'].median()\n",
    "mean = df['review_lenght'].mean()\n",
    "_max_length = df['review_lenght'].max()"
   ],
   "execution_count": 0,
   "outputs": []
  },
  {
   "cell_type": "code",
   "metadata": {
    "id": "On0NzSdk6-uw",
    "colab_type": "code",
    "outputId": "1ecf4dab-31cb-4f03-9449-36372b0e1a22",
    "colab": {
     "base_uri": "https://localhost:8080/",
     "height": 283
    }
   },
   "source": [
    "fig, ax = plt.subplots()\n",
    "sb.distplot( df['review_lenght'],  bins=int(_max_length/2),\n",
    "            hist_kws={\"alpha\": 0.9, \"color\": \"blue\"}, ax=ax,\n",
    "            kde_kws={\"color\": \"black\", 'linewidth': 3})\n",
    "ax.set_xlim(left=0, right=_max_length/6)\n",
    "ax.set_xlabel('Počet slov v recenzi')\n",
    "ymax = 0.016\n",
    "plt.ylim(0, ymax)\n",
    "ax.plot([mean, mean], [0, ymax], '--', label=f'průměr = {mean:.2f}', linewidth=3)\n",
    "ax.plot([median, median], [0, ymax], '--',\n",
    "        label=f'median = {median:.2f}', linewidth=3)\n",
    "ax.plot([_max_length, _max_length], [0, ymax], '--', label=f'max = {_max_length}', linewidth=0)\n",
    "# ax.set_title('Distribuce slov v recenzích', fontsize=20)\n",
    "plt.legend()\n",
    "plt.show()"
   ],
   "execution_count": 0,
   "outputs": [
    {
     "output_type": "display_data",
     "data": {
      "image/png": "[encoded data removed]",
      "text/plain": [
       "<Figure size 432x288 with 1 Axes>"
      ]
     },
     "metadata": {
      "tags": []
     }
    }
   ]
  },
  {
   "cell_type": "code",
   "metadata": {
    "id": "RdhhQNfAmAjJ",
    "colab_type": "code",
    "outputId": "d34c1cd0-f63b-4602-eded-90b3f1e320a9",
    "colab": {
     "base_uri": "https://localhost:8080/",
     "height": 35
    }
   },
   "source": [
    "max_dictionary_size = 10000\n",
    "tokenizer = Tokenizer(num_words=max_dictionary_size, filters='!\"#$%&()*+,-./:;<=>?@[\\\\]^`{|}_~\\t\\n')\n",
    "tokenizer.fit_on_texts(df['SentimentText'])\n",
    "# train data\n",
    "list_tokenized_train = tokenizer.texts_to_sequences(df['SentimentText'])\n",
    "max_length = 180\n",
    "X_t = pad_sequences(list_tokenized_train, maxlen=max_length, padding='post')\n",
    "y = amazonData['Sentiment']\n",
    "len(tokenizer.index_word)"
   ],
   "execution_count": 0,
   "outputs": [
    {
     "output_type": "execute_result",
     "data": {
      "text/plain": [
       "502158"
      ]
     },
     "metadata": {
      "tags": []
     },
     "execution_count": 10
    }
   ]
  },
  {
   "cell_type": "code",
   "metadata": {
    "id": "dVXVXdmJFLmc",
    "colab_type": "code",
    "colab": {}
   },
   "source": [
    "# test data\n",
    "list_tokenized_train = tokenizer.texts_to_sequences(testData['SentimentText'])\n",
    "X_test = pad_sequences(list_tokenized_train, maxlen=max_length, padding='post')\n",
    "y_test = testData['Sentiment']"
   ],
   "execution_count": 0,
   "outputs": []
  },
  {
   "cell_type": "code",
   "metadata": {
    "id": "CJ7AL8ekFboe",
    "colab_type": "code",
    "colab": {}
   },
   "source": [
    "# validation data\n",
    "list_tokenized_train = tokenizer.texts_to_sequences(validation_data['SentimentText'])\n",
    "X_valid = pad_sequences(list_tokenized_train, maxlen=max_length, padding='post')\n",
    "y_valid = validation_data['Sentiment']"
   ],
   "execution_count": 0,
   "outputs": []
  },
  {
   "cell_type": "markdown",
   "metadata": {
    "id": "jq24x7h_592v",
    "colab_type": "text"
   },
   "source": [
    "## LSTM model"
   ]
  },
  {
   "cell_type": "code",
   "metadata": {
    "id": "wNV1j5oQbQpy",
    "colab_type": "code",
    "outputId": "14d935be-acad-45e0-8e66-9851860e92aa",
    "colab": {
     "base_uri": "https://localhost:8080/",
     "height": 495
    }
   },
   "source": [
    "model = keras.models.Sequential([\n",
    "  keras.layers.Embedding(max_dictionary_size, 64, input_length=max_length),\n",
    "  keras.layers.BatchNormalization(),\n",
    "  keras.layers.Dropout(0.4),\n",
    "  keras.layers.Bidirectional(keras.layers.LSTM(100, return_sequences=True)),\n",
    "  keras.layers.GlobalMaxPooling1D(),\n",
    "  keras.layers.BatchNormalization(),\n",
    "  keras.layers.Dense(100),\n",
    "  keras.layers.Dropout(0.3),\n",
    "  keras.layers.Dense(1, activation=\"sigmoid\")                                \n",
    "])\n",
    "\n",
    "model.summary()\n",
    "model.compile(loss=\"binary_crossentropy\", optimizer=\"adam\", metrics=['accuracy'])\n",
    "\n",
    "early_stopping = keras.callbacks.EarlyStopping(monitor='val_loss',\n",
    "                                        min_delta=0,\n",
    "                                        patience=4,\n",
    "                                        verbose=1,\n",
    "                                        mode='auto',\n",
    "                                        restore_best_weights=True)"
   ],
   "execution_count": 0,
   "outputs": [
    {
     "output_type": "stream",
     "text": [
      "Model: \"sequential_1\"\n",
      "_________________________________________________________________\n",
      "Layer (type)                 Output Shape              Param #   \n",
      "=================================================================\n",
      "embedding_1 (Embedding)      (None, 180, 64)           640000    \n",
      "_________________________________________________________________\n",
      "batch_normalization_1 (Batch (None, 180, 64)           256       \n",
      "_________________________________________________________________\n",
      "dropout_2 (Dropout)          (None, 180, 64)           0         \n",
      "_________________________________________________________________\n",
      "bidirectional_1 (Bidirection (None, 180, 200)          132000    \n",
      "_________________________________________________________________\n",
      "global_max_pooling1d_1 (Glob (None, 200)               0         \n",
      "_________________________________________________________________\n",
      "batch_normalization_2 (Batch (None, 200)               800       \n",
      "_________________________________________________________________\n",
      "dense_2 (Dense)              (None, 100)               20100     \n",
      "_________________________________________________________________\n",
      "dropout_3 (Dropout)          (None, 100)               0         \n",
      "_________________________________________________________________\n",
      "dense_3 (Dense)              (None, 1)                 101       \n",
      "=================================================================\n",
      "Total params: 793,257\n",
      "Trainable params: 792,729\n",
      "Non-trainable params: 528\n",
      "_________________________________________________________________\n"
     ],
     "name": "stdout"
    }
   ]
  },
  {
   "cell_type": "code",
   "metadata": {
    "id": "b61Tvcx4c5WI",
    "colab_type": "code",
    "outputId": "d2ed7baf-c3df-4ed7-e1e3-578201364c20",
    "colab": {
     "base_uri": "https://localhost:8080/",
     "height": 738
    }
   },
   "source": [
    "history = model.fit(X_t,y, batch_size=128, epochs=12, validation_data=(X_valid, y_valid), callbacks=[early_stopping])\n",
    "show_history(history)"
   ],
   "execution_count": 0,
   "outputs": [
    {
     "output_type": "stream",
     "text": [
      "Epoch 1/12\n",
      "7813/7813 [==============================] - 256s 33ms/step - loss: 0.2005 - accuracy: 0.9209 - val_loss: 0.1565 - val_accuracy: 0.9408\n",
      "Epoch 2/12\n",
      "7813/7813 [==============================] - 255s 33ms/step - loss: 0.1579 - accuracy: 0.9406 - val_loss: 0.1502 - val_accuracy: 0.9462\n",
      "Epoch 3/12\n",
      "7813/7813 [==============================] - 254s 33ms/step - loss: 0.1456 - accuracy: 0.9458 - val_loss: 0.1422 - val_accuracy: 0.9482\n",
      "Epoch 4/12\n",
      "7813/7813 [==============================] - 254s 33ms/step - loss: 0.1378 - accuracy: 0.9492 - val_loss: 0.1472 - val_accuracy: 0.9487\n",
      "Epoch 5/12\n",
      "7813/7813 [==============================] - 257s 33ms/step - loss: 0.1315 - accuracy: 0.9518 - val_loss: 0.1512 - val_accuracy: 0.9483\n",
      "Epoch 6/12\n",
      "7813/7813 [==============================] - 256s 33ms/step - loss: 0.1269 - accuracy: 0.9537 - val_loss: 0.1378 - val_accuracy: 0.9492\n",
      "Epoch 7/12\n",
      "7813/7813 [==============================] - 257s 33ms/step - loss: 0.1224 - accuracy: 0.9555 - val_loss: 0.1364 - val_accuracy: 0.9510\n",
      "Epoch 8/12\n",
      "7813/7813 [==============================] - 254s 33ms/step - loss: 0.1188 - accuracy: 0.9570 - val_loss: 0.1355 - val_accuracy: 0.9503\n",
      "Epoch 9/12\n",
      "7813/7813 [==============================] - 254s 32ms/step - loss: 0.1156 - accuracy: 0.9584 - val_loss: 0.1332 - val_accuracy: 0.9510\n",
      "Epoch 10/12\n",
      "7813/7813 [==============================] - 253s 32ms/step - loss: 0.1124 - accuracy: 0.9596 - val_loss: 0.1384 - val_accuracy: 0.9509\n",
      "Epoch 11/12\n",
      "7813/7813 [==============================] - 253s 32ms/step - loss: 0.1103 - accuracy: 0.9604 - val_loss: 0.1437 - val_accuracy: 0.9514\n",
      "Epoch 12/12\n",
      "7813/7813 [==============================] - 255s 33ms/step - loss: 0.1080 - accuracy: 0.9613 - val_loss: 0.1372 - val_accuracy: 0.9508\n"
     ],
     "name": "stdout"
    },
    {
     "output_type": "display_data",
     "data": {
      "image/png": "[encoded data removed]",
      "text/plain": [
       "<Figure size 432x288 with 1 Axes>"
      ]
     },
     "metadata": {
      "tags": []
     }
    }
   ]
  },
  {
   "cell_type": "code",
   "metadata": {
    "id": "Lo4xcJF4EDHg",
    "colab_type": "code",
    "outputId": "e6dea6c1-a714-451a-9a95-7823cf1ba3af",
    "colab": {
     "base_uri": "https://localhost:8080/",
     "height": 54
    }
   },
   "source": [
    "test_loss, test_acc = model.evaluate(X_test, y_test)\n",
    "print('Test accuracy: ', test_acc)"
   ],
   "execution_count": 0,
   "outputs": [
    {
     "output_type": "stream",
     "text": [
      "12500/12500 [==============================] - 99s 8ms/step - loss: 0.1396 - accuracy: 0.9500\n",
      "Test accuracy:  0.9500250220298767\n"
     ],
     "name": "stdout"
    }
   ]
  },
  {
   "cell_type": "markdown",
   "metadata": {
    "id": "m55FVppqo82Z",
    "colab_type": "text"
   },
   "source": [
    "## LSTM model 2"
   ]
  },
  {
   "cell_type": "code",
   "metadata": {
    "id": "HOrq9S1opByq",
    "colab_type": "code",
    "outputId": "7eef115c-da63-4fa9-9e86-421f8600f23c",
    "colab": {
     "base_uri": "https://localhost:8080/",
     "height": 641
    }
   },
   "source": [
    "model = keras.models.Sequential([\n",
    "    keras.layers.Embedding(max_dictionary_size, 64, input_length=max_length, mask_zero=True),\n",
    "    keras.layers.BatchNormalization(),\n",
    "    keras.layers.Dropout(0.4),\n",
    "    keras.layers.Bidirectional(keras.layers.LSTM(64, return_sequences=True)),\n",
    "    keras.layers.BatchNormalization(),\n",
    "    keras.layers.MaxPooling1D(),\n",
    "    keras.layers.Dropout(0.3),\n",
    "    keras.layers.Bidirectional(keras.layers.LSTM(64, return_sequences=True)),\n",
    "    keras.layers.GlobalMaxPooling1D(),\n",
    "    keras.layers.BatchNormalization(),\n",
    "    keras.layers.Dense(100),\n",
    "    keras.layers.Dropout(0.3),\n",
    "    keras.layers.Dense(1, activation=\"sigmoid\")                             \n",
    "])\n",
    "\n",
    "model.summary()\n",
    "model.compile(loss=\"binary_crossentropy\", optimizer=\"adam\", metrics=['accuracy'])\n",
    "\n",
    "early_stopping = keras.callbacks.EarlyStopping(monitor='val_loss',\n",
    "                                        min_delta=0,\n",
    "                                        patience=4,\n",
    "                                        verbose=1,\n",
    "                                        mode='auto',\n",
    "                                        restore_best_weights=True)"
   ],
   "execution_count": 0,
   "outputs": [
    {
     "output_type": "stream",
     "text": [
      "Model: \"sequential\"\n",
      "_________________________________________________________________\n",
      "Layer (type)                 Output Shape              Param #   \n",
      "=================================================================\n",
      "embedding (Embedding)        (None, 180, 64)           640000    \n",
      "_________________________________________________________________\n",
      "batch_normalization (BatchNo (None, 180, 64)           256       \n",
      "_________________________________________________________________\n",
      "dropout (Dropout)            (None, 180, 64)           0         \n",
      "_________________________________________________________________\n",
      "bidirectional (Bidirectional (None, 180, 128)          66048     \n",
      "_________________________________________________________________\n",
      "batch_normalization_1 (Batch (None, 180, 128)          512       \n",
      "_________________________________________________________________\n",
      "max_pooling1d (MaxPooling1D) (None, 90, 128)           0         \n",
      "_________________________________________________________________\n",
      "dropout_1 (Dropout)          (None, 90, 128)           0         \n",
      "_________________________________________________________________\n",
      "bidirectional_1 (Bidirection (None, 90, 128)           98816     \n",
      "_________________________________________________________________\n",
      "global_max_pooling1d (Global (None, 128)               0         \n",
      "_________________________________________________________________\n",
      "batch_normalization_2 (Batch (None, 128)               512       \n",
      "_________________________________________________________________\n",
      "dense (Dense)                (None, 100)               12900     \n",
      "_________________________________________________________________\n",
      "dropout_2 (Dropout)          (None, 100)               0         \n",
      "_________________________________________________________________\n",
      "dense_1 (Dense)              (None, 1)                 101       \n",
      "=================================================================\n",
      "Total params: 819,145\n",
      "Trainable params: 818,505\n",
      "Non-trainable params: 640\n",
      "_________________________________________________________________\n"
     ],
     "name": "stdout"
    }
   ]
  },
  {
   "cell_type": "code",
   "metadata": {
    "id": "OnwZzb5opF-0",
    "colab_type": "code",
    "outputId": "b3ad85b8-e599-4454-fbd7-de804047d207",
    "colab": {
     "base_uri": "https://localhost:8080/",
     "height": 1000
    }
   },
   "source": [
    "history = model.fit(X_t,y, batch_size=256, epochs=12, validation_data=(X_valid, y_valid), callbacks=[early_stopping])\n",
    "show_history(history)"
   ],
   "execution_count": 0,
   "outputs": [
    {
     "output_type": "stream",
     "text": [
      "Epoch 1/12\n",
      "1506/3907 [==========>...................] - ETA: 6:31 - loss: 0.2585 - accuracy: 0.8918"
     ],
     "name": "stdout"
    },
    {
     "output_type": "error",
     "ename": "UnknownError",
     "evalue": "ignored",
     "traceback": [
      "\u001b[0;31m---------------------------------------------------------------------------\u001b[0m",
      "\u001b[0;31mUnknownError\u001b[0m                              Traceback (most recent call last)",
      "\u001b[0;32m<ipython-input-15-b1fab37b02be>\u001b[0m in \u001b[0;36m<module>\u001b[0;34m()\u001b[0m\n\u001b[0;32m----> 1\u001b[0;31m \u001b[0mhistory\u001b[0m \u001b[0;34m=\u001b[0m \u001b[0mmodel\u001b[0m\u001b[0;34m.\u001b[0m\u001b[0mfit\u001b[0m\u001b[0;34m(\u001b[0m\u001b[0mX_t\u001b[0m\u001b[0;34m,\u001b[0m\u001b[0my\u001b[0m\u001b[0;34m,\u001b[0m \u001b[0mbatch_size\u001b[0m\u001b[0;34m=\u001b[0m\u001b[0;36m256\u001b[0m\u001b[0;34m,\u001b[0m \u001b[0mepochs\u001b[0m\u001b[0;34m=\u001b[0m\u001b[0;36m12\u001b[0m\u001b[0;34m,\u001b[0m \u001b[0mvalidation_data\u001b[0m\u001b[0;34m=\u001b[0m\u001b[0;34m(\u001b[0m\u001b[0mX_valid\u001b[0m\u001b[0;34m,\u001b[0m \u001b[0my_valid\u001b[0m\u001b[0;34m)\u001b[0m\u001b[0;34m,\u001b[0m \u001b[0mcallbacks\u001b[0m\u001b[0;34m=\u001b[0m\u001b[0;34m[\u001b[0m\u001b[0mearly_stopping\u001b[0m\u001b[0;34m]\u001b[0m\u001b[0;34m)\u001b[0m\u001b[0;34m\u001b[0m\u001b[0;34m\u001b[0m\u001b[0m\n\u001b[0m\u001b[1;32m      2\u001b[0m \u001b[0mshow_history\u001b[0m\u001b[0;34m(\u001b[0m\u001b[0mhistory\u001b[0m\u001b[0;34m)\u001b[0m\u001b[0;34m\u001b[0m\u001b[0;34m\u001b[0m\u001b[0m\n",
      "\u001b[0;32m/usr/local/lib/python3.6/dist-packages/tensorflow/python/keras/engine/training.py\u001b[0m in \u001b[0;36m_method_wrapper\u001b[0;34m(self, *args, **kwargs)\u001b[0m\n\u001b[1;32m     64\u001b[0m   \u001b[0;32mdef\u001b[0m \u001b[0m_method_wrapper\u001b[0m\u001b[0;34m(\u001b[0m\u001b[0mself\u001b[0m\u001b[0;34m,\u001b[0m \u001b[0;34m*\u001b[0m\u001b[0margs\u001b[0m\u001b[0;34m,\u001b[0m \u001b[0;34m**\u001b[0m\u001b[0mkwargs\u001b[0m\u001b[0;34m)\u001b[0m\u001b[0;34m:\u001b[0m\u001b[0;34m\u001b[0m\u001b[0;34m\u001b[0m\u001b[0m\n\u001b[1;32m     65\u001b[0m     \u001b[0;32mif\u001b[0m \u001b[0;32mnot\u001b[0m \u001b[0mself\u001b[0m\u001b[0;34m.\u001b[0m\u001b[0m_in_multi_worker_mode\u001b[0m\u001b[0;34m(\u001b[0m\u001b[0;34m)\u001b[0m\u001b[0;34m:\u001b[0m  \u001b[0;31m# pylint: disable=protected-access\u001b[0m\u001b[0;34m\u001b[0m\u001b[0;34m\u001b[0m\u001b[0m\n\u001b[0;32m---> 66\u001b[0;31m       \u001b[0;32mreturn\u001b[0m \u001b[0mmethod\u001b[0m\u001b[0;34m(\u001b[0m\u001b[0mself\u001b[0m\u001b[0;34m,\u001b[0m \u001b[0;34m*\u001b[0m\u001b[0margs\u001b[0m\u001b[0;34m,\u001b[0m \u001b[0;34m**\u001b[0m\u001b[0mkwargs\u001b[0m\u001b[0;34m)\u001b[0m\u001b[0;34m\u001b[0m\u001b[0;34m\u001b[0m\u001b[0m\n\u001b[0m\u001b[1;32m     67\u001b[0m \u001b[0;34m\u001b[0m\u001b[0m\n\u001b[1;32m     68\u001b[0m     \u001b[0;31m# Running inside `run_distribute_coordinator` already.\u001b[0m\u001b[0;34m\u001b[0m\u001b[0;34m\u001b[0m\u001b[0;34m\u001b[0m\u001b[0m\n",
      "\u001b[0;32m/usr/local/lib/python3.6/dist-packages/tensorflow/python/keras/engine/training.py\u001b[0m in \u001b[0;36mfit\u001b[0;34m(self, x, y, batch_size, epochs, verbose, callbacks, validation_split, validation_data, shuffle, class_weight, sample_weight, initial_epoch, steps_per_epoch, validation_steps, validation_batch_size, validation_freq, max_queue_size, workers, use_multiprocessing, **kwargs)\u001b[0m\n\u001b[1;32m    849\u001b[0m                 batch_size=batch_size):\n\u001b[1;32m    850\u001b[0m               \u001b[0mcallbacks\u001b[0m\u001b[0;34m.\u001b[0m\u001b[0mon_train_batch_begin\u001b[0m\u001b[0;34m(\u001b[0m\u001b[0mstep\u001b[0m\u001b[0;34m)\u001b[0m\u001b[0;34m\u001b[0m\u001b[0;34m\u001b[0m\u001b[0m\n\u001b[0;32m--> 851\u001b[0;31m               \u001b[0mtmp_logs\u001b[0m \u001b[0;34m=\u001b[0m \u001b[0mtrain_function\u001b[0m\u001b[0;34m(\u001b[0m\u001b[0miterator\u001b[0m\u001b[0;34m)\u001b[0m\u001b[0;34m\u001b[0m\u001b[0;34m\u001b[0m\u001b[0m\n\u001b[0m\u001b[1;32m    852\u001b[0m               \u001b[0;31m# Catch OutOfRangeError for Datasets of unknown size.\u001b[0m\u001b[0;34m\u001b[0m\u001b[0;34m\u001b[0m\u001b[0;34m\u001b[0m\u001b[0m\n\u001b[1;32m    853\u001b[0m               \u001b[0;31m# This blocks until the batch has finished executing.\u001b[0m\u001b[0;34m\u001b[0m\u001b[0;34m\u001b[0m\u001b[0;34m\u001b[0m\u001b[0m\n",
      "\u001b[0;32m/usr/local/lib/python3.6/dist-packages/tensorflow/python/eager/def_function.py\u001b[0m in \u001b[0;36m__call__\u001b[0;34m(self, *args, **kwds)\u001b[0m\n\u001b[1;32m    578\u001b[0m         \u001b[0mxla_context\u001b[0m\u001b[0;34m.\u001b[0m\u001b[0mExit\u001b[0m\u001b[0;34m(\u001b[0m\u001b[0;34m)\u001b[0m\u001b[0;34m\u001b[0m\u001b[0;34m\u001b[0m\u001b[0m\n\u001b[1;32m    579\u001b[0m     \u001b[0;32melse\u001b[0m\u001b[0;34m:\u001b[0m\u001b[0;34m\u001b[0m\u001b[0;34m\u001b[0m\u001b[0m\n\u001b[0;32m--> 580\u001b[0;31m       \u001b[0mresult\u001b[0m \u001b[0;34m=\u001b[0m \u001b[0mself\u001b[0m\u001b[0;34m.\u001b[0m\u001b[0m_call\u001b[0m\u001b[0;34m(\u001b[0m\u001b[0;34m*\u001b[0m\u001b[0margs\u001b[0m\u001b[0;34m,\u001b[0m \u001b[0;34m**\u001b[0m\u001b[0mkwds\u001b[0m\u001b[0;34m)\u001b[0m\u001b[0;34m\u001b[0m\u001b[0;34m\u001b[0m\u001b[0m\n\u001b[0m\u001b[1;32m    581\u001b[0m \u001b[0;34m\u001b[0m\u001b[0m\n\u001b[1;32m    582\u001b[0m     \u001b[0;32mif\u001b[0m \u001b[0mtracing_count\u001b[0m \u001b[0;34m==\u001b[0m \u001b[0mself\u001b[0m\u001b[0;34m.\u001b[0m\u001b[0m_get_tracing_count\u001b[0m\u001b[0;34m(\u001b[0m\u001b[0;34m)\u001b[0m\u001b[0;34m:\u001b[0m\u001b[0;34m\u001b[0m\u001b[0;34m\u001b[0m\u001b[0m\n",
      "\u001b[0;32m/usr/local/lib/python3.6/dist-packages/tensorflow/python/eager/def_function.py\u001b[0m in \u001b[0;36m_call\u001b[0;34m(self, *args, **kwds)\u001b[0m\n\u001b[1;32m    609\u001b[0m       \u001b[0;31m# In this case we have created variables on the first call, so we run the\u001b[0m\u001b[0;34m\u001b[0m\u001b[0;34m\u001b[0m\u001b[0;34m\u001b[0m\u001b[0m\n\u001b[1;32m    610\u001b[0m       \u001b[0;31m# defunned version which is guaranteed to never create variables.\u001b[0m\u001b[0;34m\u001b[0m\u001b[0;34m\u001b[0m\u001b[0;34m\u001b[0m\u001b[0m\n\u001b[0;32m--> 611\u001b[0;31m       \u001b[0;32mreturn\u001b[0m \u001b[0mself\u001b[0m\u001b[0;34m.\u001b[0m\u001b[0m_stateless_fn\u001b[0m\u001b[0;34m(\u001b[0m\u001b[0;34m*\u001b[0m\u001b[0margs\u001b[0m\u001b[0;34m,\u001b[0m \u001b[0;34m**\u001b[0m\u001b[0mkwds\u001b[0m\u001b[0;34m)\u001b[0m  \u001b[0;31m# pylint: disable=not-callable\u001b[0m\u001b[0;34m\u001b[0m\u001b[0;34m\u001b[0m\u001b[0m\n\u001b[0m\u001b[1;32m    612\u001b[0m     \u001b[0;32melif\u001b[0m \u001b[0mself\u001b[0m\u001b[0;34m.\u001b[0m\u001b[0m_stateful_fn\u001b[0m \u001b[0;32mis\u001b[0m \u001b[0;32mnot\u001b[0m \u001b[0;32mNone\u001b[0m\u001b[0;34m:\u001b[0m\u001b[0;34m\u001b[0m\u001b[0;34m\u001b[0m\u001b[0m\n\u001b[1;32m    613\u001b[0m       \u001b[0;31m# Release the lock early so that multiple threads can perform the call\u001b[0m\u001b[0;34m\u001b[0m\u001b[0;34m\u001b[0m\u001b[0;34m\u001b[0m\u001b[0m\n",
      "\u001b[0;32m/usr/local/lib/python3.6/dist-packages/tensorflow/python/eager/function.py\u001b[0m in \u001b[0;36m__call__\u001b[0;34m(self, *args, **kwargs)\u001b[0m\n\u001b[1;32m   2418\u001b[0m     \u001b[0;32mwith\u001b[0m \u001b[0mself\u001b[0m\u001b[0;34m.\u001b[0m\u001b[0m_lock\u001b[0m\u001b[0;34m:\u001b[0m\u001b[0;34m\u001b[0m\u001b[0;34m\u001b[0m\u001b[0m\n\u001b[1;32m   2419\u001b[0m       \u001b[0mgraph_function\u001b[0m\u001b[0;34m,\u001b[0m \u001b[0margs\u001b[0m\u001b[0;34m,\u001b[0m \u001b[0mkwargs\u001b[0m \u001b[0;34m=\u001b[0m \u001b[0mself\u001b[0m\u001b[0;34m.\u001b[0m\u001b[0m_maybe_define_function\u001b[0m\u001b[0;34m(\u001b[0m\u001b[0margs\u001b[0m\u001b[0;34m,\u001b[0m \u001b[0mkwargs\u001b[0m\u001b[0;34m)\u001b[0m\u001b[0;34m\u001b[0m\u001b[0;34m\u001b[0m\u001b[0m\n\u001b[0;32m-> 2420\u001b[0;31m     \u001b[0;32mreturn\u001b[0m \u001b[0mgraph_function\u001b[0m\u001b[0;34m.\u001b[0m\u001b[0m_filtered_call\u001b[0m\u001b[0;34m(\u001b[0m\u001b[0margs\u001b[0m\u001b[0;34m,\u001b[0m \u001b[0mkwargs\u001b[0m\u001b[0;34m)\u001b[0m  \u001b[0;31m# pylint: disable=protected-access\u001b[0m\u001b[0;34m\u001b[0m\u001b[0;34m\u001b[0m\u001b[0m\n\u001b[0m\u001b[1;32m   2421\u001b[0m \u001b[0;34m\u001b[0m\u001b[0m\n\u001b[1;32m   2422\u001b[0m   \u001b[0;34m@\u001b[0m\u001b[0mproperty\u001b[0m\u001b[0;34m\u001b[0m\u001b[0;34m\u001b[0m\u001b[0m\n",
      "\u001b[0;32m/usr/local/lib/python3.6/dist-packages/tensorflow/python/eager/function.py\u001b[0m in \u001b[0;36m_filtered_call\u001b[0;34m(self, args, kwargs)\u001b[0m\n\u001b[1;32m   1663\u001b[0m          if isinstance(t, (ops.Tensor,\n\u001b[1;32m   1664\u001b[0m                            resource_variable_ops.BaseResourceVariable))),\n\u001b[0;32m-> 1665\u001b[0;31m         self.captured_inputs)\n\u001b[0m\u001b[1;32m   1666\u001b[0m \u001b[0;34m\u001b[0m\u001b[0m\n\u001b[1;32m   1667\u001b[0m   \u001b[0;32mdef\u001b[0m \u001b[0m_call_flat\u001b[0m\u001b[0;34m(\u001b[0m\u001b[0mself\u001b[0m\u001b[0;34m,\u001b[0m \u001b[0margs\u001b[0m\u001b[0;34m,\u001b[0m \u001b[0mcaptured_inputs\u001b[0m\u001b[0;34m,\u001b[0m \u001b[0mcancellation_manager\u001b[0m\u001b[0;34m=\u001b[0m\u001b[0;32mNone\u001b[0m\u001b[0;34m)\u001b[0m\u001b[0;34m:\u001b[0m\u001b[0;34m\u001b[0m\u001b[0;34m\u001b[0m\u001b[0m\n",
      "\u001b[0;32m/usr/local/lib/python3.6/dist-packages/tensorflow/python/eager/function.py\u001b[0m in \u001b[0;36m_call_flat\u001b[0;34m(self, args, captured_inputs, cancellation_manager)\u001b[0m\n\u001b[1;32m   1744\u001b[0m       \u001b[0;31m# No tape is watching; skip to running the function.\u001b[0m\u001b[0;34m\u001b[0m\u001b[0;34m\u001b[0m\u001b[0;34m\u001b[0m\u001b[0m\n\u001b[1;32m   1745\u001b[0m       return self._build_call_outputs(self._inference_function.call(\n\u001b[0;32m-> 1746\u001b[0;31m           ctx, args, cancellation_manager=cancellation_manager))\n\u001b[0m\u001b[1;32m   1747\u001b[0m     forward_backward = self._select_forward_and_backward_functions(\n\u001b[1;32m   1748\u001b[0m         \u001b[0margs\u001b[0m\u001b[0;34m,\u001b[0m\u001b[0;34m\u001b[0m\u001b[0;34m\u001b[0m\u001b[0m\n",
      "\u001b[0;32m/usr/local/lib/python3.6/dist-packages/tensorflow/python/eager/function.py\u001b[0m in \u001b[0;36mcall\u001b[0;34m(self, ctx, args, cancellation_manager)\u001b[0m\n\u001b[1;32m    596\u001b[0m               \u001b[0minputs\u001b[0m\u001b[0;34m=\u001b[0m\u001b[0margs\u001b[0m\u001b[0;34m,\u001b[0m\u001b[0;34m\u001b[0m\u001b[0;34m\u001b[0m\u001b[0m\n\u001b[1;32m    597\u001b[0m               \u001b[0mattrs\u001b[0m\u001b[0;34m=\u001b[0m\u001b[0mattrs\u001b[0m\u001b[0;34m,\u001b[0m\u001b[0;34m\u001b[0m\u001b[0;34m\u001b[0m\u001b[0m\n\u001b[0;32m--> 598\u001b[0;31m               ctx=ctx)\n\u001b[0m\u001b[1;32m    599\u001b[0m         \u001b[0;32melse\u001b[0m\u001b[0;34m:\u001b[0m\u001b[0;34m\u001b[0m\u001b[0;34m\u001b[0m\u001b[0m\n\u001b[1;32m    600\u001b[0m           outputs = execute.execute_with_cancellation(\n",
      "\u001b[0;32m/usr/local/lib/python3.6/dist-packages/tensorflow/python/eager/execute.py\u001b[0m in \u001b[0;36mquick_execute\u001b[0;34m(op_name, num_outputs, inputs, attrs, ctx, name)\u001b[0m\n\u001b[1;32m     58\u001b[0m     \u001b[0mctx\u001b[0m\u001b[0;34m.\u001b[0m\u001b[0mensure_initialized\u001b[0m\u001b[0;34m(\u001b[0m\u001b[0;34m)\u001b[0m\u001b[0;34m\u001b[0m\u001b[0;34m\u001b[0m\u001b[0m\n\u001b[1;32m     59\u001b[0m     tensors = pywrap_tfe.TFE_Py_Execute(ctx._handle, device_name, op_name,\n\u001b[0;32m---> 60\u001b[0;31m                                         inputs, attrs, num_outputs)\n\u001b[0m\u001b[1;32m     61\u001b[0m   \u001b[0;32mexcept\u001b[0m \u001b[0mcore\u001b[0m\u001b[0;34m.\u001b[0m\u001b[0m_NotOkStatusException\u001b[0m \u001b[0;32mas\u001b[0m \u001b[0me\u001b[0m\u001b[0;34m:\u001b[0m\u001b[0;34m\u001b[0m\u001b[0;34m\u001b[0m\u001b[0m\n\u001b[1;32m     62\u001b[0m     \u001b[0;32mif\u001b[0m \u001b[0mname\u001b[0m \u001b[0;32mis\u001b[0m \u001b[0;32mnot\u001b[0m \u001b[0;32mNone\u001b[0m\u001b[0;34m:\u001b[0m\u001b[0;34m\u001b[0m\u001b[0;34m\u001b[0m\u001b[0m\n",
      "\u001b[0;31mUnknownError\u001b[0m:  [_Derived_]  CUDNN_STATUS_BAD_PARAM\nin tensorflow/stream_executor/cuda/cuda_dnn.cc(1496): 'cudnnSetRNNDataDescriptor( data_desc.get(), data_type, layout, max_seq_length, batch_size, data_size, seq_lengths_array, (void*)&padding_fill)'\n\t [[{{node cond_40/then/_0/CudnnRNNV3}}]]\n\t [[sequential/bidirectional/backward_lstm/StatefulPartitionedCall]]\n\t [[gradient_tape/sequential/embedding/embedding_lookup/Reshape/_54]] [Op:__inference_train_function_20907]\n\nFunction call stack:\ntrain_function -> train_function -> train_function\n"
     ]
    }
   ]
  },
  {
   "cell_type": "code",
   "metadata": {
    "id": "l44wtxTHwH-k",
    "colab_type": "code",
    "colab": {}
   },
   "source": [
    "test_loss, test_acc = model.evaluate(X_test, y_test)\n",
    "print('Test accuracy: ', test_acc)\n"
   ],
   "execution_count": 0,
   "outputs": []
  },
  {
   "cell_type": "markdown",
   "metadata": {
    "id": "r3renL2uYUVP",
    "colab_type": "text"
   },
   "source": [
    "## CNN deep model **2**"
   ]
  },
  {
   "cell_type": "code",
   "metadata": {
    "id": "klUxK8bcYXOt",
    "colab_type": "code",
    "outputId": "e4c90281-4668-48b3-ca87-e525a9276913",
    "colab": {
     "base_uri": "https://localhost:8080/",
     "height": 788
    }
   },
   "source": [
    "model = keras.models.Sequential([\n",
    "  keras.layers.Embedding(max_dictionary_size, 64, input_length=max_length),\n",
    "  keras.layers.BatchNormalization(),\n",
    "  keras.layers.Dropout(0.3),\n",
    "  keras.layers.Conv1D(32, 7, padding='same', activation='relu'),\n",
    "  keras.layers.BatchNormalization(),\n",
    "  keras.layers.Dropout(0.3),\n",
    "  keras.layers.Conv1D(32, 3, padding='same', activation='relu'),\n",
    "  keras.layers.BatchNormalization(),\n",
    "  keras.layers.Dropout(0.3),\n",
    "  keras.layers.Conv1D(32, 3, padding='same', activation='relu'),\n",
    "  keras.layers.BatchNormalization(),\n",
    "  keras.layers.Dropout(0.3),\n",
    "  keras.layers.Conv1D(32, 3, padding='same', activation='relu'),\n",
    "  keras.layers.Dropout(0.3),\n",
    "  keras.layers.Conv1D(2, 2),\n",
    "  keras.layers.GlobalAveragePooling1D(),\n",
    "  keras.layers.Dense(1, activation=\"sigmoid\")                                \n",
    "])\n",
    "\n",
    "model.summary()\n",
    "model.compile(loss=\"binary_crossentropy\", optimizer=\"adam\", metrics=['accuracy'])"
   ],
   "execution_count": 0,
   "outputs": [
    {
     "output_type": "stream",
     "text": [
      "Model: \"sequential_2\"\n",
      "_________________________________________________________________\n",
      "Layer (type)                 Output Shape              Param #   \n",
      "=================================================================\n",
      "embedding_2 (Embedding)      (None, 180, 64)           640000    \n",
      "_________________________________________________________________\n",
      "batch_normalization_4 (Batch (None, 180, 64)           256       \n",
      "_________________________________________________________________\n",
      "dropout_7 (Dropout)          (None, 180, 64)           0         \n",
      "_________________________________________________________________\n",
      "conv1d_6 (Conv1D)            (None, 180, 32)           14368     \n",
      "_________________________________________________________________\n",
      "batch_normalization_5 (Batch (None, 180, 32)           128       \n",
      "_________________________________________________________________\n",
      "dropout_8 (Dropout)          (None, 180, 32)           0         \n",
      "_________________________________________________________________\n",
      "conv1d_7 (Conv1D)            (None, 180, 32)           3104      \n",
      "_________________________________________________________________\n",
      "batch_normalization_6 (Batch (None, 180, 32)           128       \n",
      "_________________________________________________________________\n",
      "dropout_9 (Dropout)          (None, 180, 32)           0         \n",
      "_________________________________________________________________\n",
      "conv1d_8 (Conv1D)            (None, 180, 32)           3104      \n",
      "_________________________________________________________________\n",
      "batch_normalization_7 (Batch (None, 180, 32)           128       \n",
      "_________________________________________________________________\n",
      "dropout_10 (Dropout)         (None, 180, 32)           0         \n",
      "_________________________________________________________________\n",
      "conv1d_9 (Conv1D)            (None, 180, 32)           3104      \n",
      "_________________________________________________________________\n",
      "dropout_11 (Dropout)         (None, 180, 32)           0         \n",
      "_________________________________________________________________\n",
      "conv1d_10 (Conv1D)           (None, 179, 2)            130       \n",
      "_________________________________________________________________\n",
      "global_average_pooling1d_1 ( (None, 2)                 0         \n",
      "_________________________________________________________________\n",
      "dense_3 (Dense)              (None, 1)                 3         \n",
      "=================================================================\n",
      "Total params: 664,453\n",
      "Trainable params: 664,133\n",
      "Non-trainable params: 320\n",
      "_________________________________________________________________\n"
     ],
     "name": "stdout"
    }
   ]
  },
  {
   "cell_type": "code",
   "metadata": {
    "id": "fLiQCVpJaBUb",
    "colab_type": "code",
    "outputId": "a320ab79-6cf6-4b8a-8059-358b9d53b017",
    "colab": {
     "base_uri": "https://localhost:8080/",
     "height": 628
    }
   },
   "source": [
    "history = model.fit(X_t,y, batch_size=128, epochs=12, validation_data=(X_valid, y_valid), callbacks=[early_stopping])\n",
    "show_history(history)"
   ],
   "execution_count": 0,
   "outputs": [
    {
     "output_type": "stream",
     "text": [
      "Epoch 1/12\n",
      "7813/7813 [==============================] - 120s 15ms/step - loss: 0.2053 - accuracy: 0.9210 - val_loss: 0.1622 - val_accuracy: 0.9403\n",
      "Epoch 2/12\n",
      "7813/7813 [==============================] - 120s 15ms/step - loss: 0.1682 - accuracy: 0.9373 - val_loss: 0.1555 - val_accuracy: 0.9422\n",
      "Epoch 3/12\n",
      "7813/7813 [==============================] - 120s 15ms/step - loss: 0.1570 - accuracy: 0.9422 - val_loss: 0.1525 - val_accuracy: 0.9443\n",
      "Epoch 4/12\n",
      "7813/7813 [==============================] - 120s 15ms/step - loss: 0.1502 - accuracy: 0.9446 - val_loss: 0.1504 - val_accuracy: 0.9452\n",
      "Epoch 5/12\n",
      "7813/7813 [==============================] - 119s 15ms/step - loss: 0.1448 - accuracy: 0.9471 - val_loss: 0.1500 - val_accuracy: 0.9452\n",
      "Epoch 6/12\n",
      "7813/7813 [==============================] - 119s 15ms/step - loss: 0.1402 - accuracy: 0.9489 - val_loss: 0.1507 - val_accuracy: 0.9452\n",
      "Epoch 7/12\n",
      "7813/7813 [==============================] - 119s 15ms/step - loss: 0.1371 - accuracy: 0.9502 - val_loss: 0.1514 - val_accuracy: 0.9450\n",
      "Epoch 8/12\n",
      "7812/7813 [============================>.] - ETA: 0s - loss: 0.1337 - accuracy: 0.9514Restoring model weights from the end of the best epoch.\n",
      "7813/7813 [==============================] - 118s 15ms/step - loss: 0.1337 - accuracy: 0.9514 - val_loss: 0.1524 - val_accuracy: 0.9444\n",
      "Epoch 00008: early stopping\n"
     ],
     "name": "stdout"
    },
    {
     "output_type": "display_data",
     "data": {
      "image/png": "[encoded data removed]",
      "text/plain": [
       "<Figure size 432x288 with 1 Axes>"
      ]
     },
     "metadata": {
      "tags": [],
      "needs_background": "light"
     }
    }
   ]
  },
  {
   "cell_type": "code",
   "metadata": {
    "id": "hJ779D9GKpcU",
    "colab_type": "code",
    "outputId": "228cdfea-b1f0-4079-8c12-99b3f63c35ce",
    "colab": {
     "base_uri": "https://localhost:8080/",
     "height": 54
    }
   },
   "source": [
    "test_loss, test_acc = model.evaluate(X_test, y_test)\n",
    "print('Test accuracy: ', test_acc)"
   ],
   "execution_count": 0,
   "outputs": [
    {
     "output_type": "stream",
     "text": [
      "12500/12500 [==============================] - 42s 3ms/step - loss: 0.1519 - accuracy: 0.9444\n",
      "Test accuracy:  0.9444375038146973\n"
     ],
     "name": "stdout"
    }
   ]
  },
  {
   "cell_type": "markdown",
   "metadata": {
    "id": "gpJEL2irGEvj",
    "colab_type": "text"
   },
   "source": [
    "## CNN model"
   ]
  },
  {
   "cell_type": "code",
   "metadata": {
    "id": "YZ92uYt_GJJv",
    "colab_type": "code",
    "outputId": "89bd8a66-8936-44eb-972a-c2727c9fddc5",
    "colab": {
     "base_uri": "https://localhost:8080/",
     "height": 458
    }
   },
   "source": [
    "filters = 250\n",
    "kernel_size = 3\n",
    "\n",
    "model = keras.models.Sequential([\n",
    "  keras.layers.Embedding(max_dictionary_size, 50, input_length=max_length),\n",
    "  keras.layers.Dropout(0.3),\n",
    "  keras.layers.Conv1D(filters, kernel_size, activation=\"relu\"),\n",
    "  keras.layers.GlobalMaxPooling1D(),\n",
    "  keras.layers.Dense(250),\n",
    "  keras.layers.Dropout(0.2),\n",
    "  keras.layers.Activation(\"relu\"),\n",
    "  keras.layers.Dense(1, activation=\"sigmoid\")                                \n",
    "])\n",
    "\n",
    "model.summary()\n",
    "model.compile(loss=\"binary_crossentropy\", optimizer=\"adam\", metrics=['accuracy'])\n",
    "\n",
    "early_stopping = keras.callbacks.EarlyStopping(monitor='val_loss',\n",
    "                                        min_delta=0,\n",
    "                                        patience=3,\n",
    "                                        verbose=1,\n",
    "                                        mode='auto',\n",
    "                                        restore_best_weights=True)"
   ],
   "execution_count": 0,
   "outputs": [
    {
     "output_type": "stream",
     "text": [
      "Model: \"sequential_1\"\n",
      "_________________________________________________________________\n",
      "Layer (type)                 Output Shape              Param #   \n",
      "=================================================================\n",
      "embedding_1 (Embedding)      (None, 180, 50)           500000    \n",
      "_________________________________________________________________\n",
      "dropout_5 (Dropout)          (None, 180, 50)           0         \n",
      "_________________________________________________________________\n",
      "conv1d_5 (Conv1D)            (None, 178, 250)          37750     \n",
      "_________________________________________________________________\n",
      "global_max_pooling1d (Global (None, 250)               0         \n",
      "_________________________________________________________________\n",
      "dense_1 (Dense)              (None, 250)               62750     \n",
      "_________________________________________________________________\n",
      "dropout_6 (Dropout)          (None, 250)               0         \n",
      "_________________________________________________________________\n",
      "activation (Activation)      (None, 250)               0         \n",
      "_________________________________________________________________\n",
      "dense_2 (Dense)              (None, 1)                 251       \n",
      "=================================================================\n",
      "Total params: 600,751\n",
      "Trainable params: 600,751\n",
      "Non-trainable params: 0\n",
      "_________________________________________________________________\n"
     ],
     "name": "stdout"
    }
   ]
  },
  {
   "cell_type": "code",
   "metadata": {
    "id": "f_8Z3zuWGMYy",
    "colab_type": "code",
    "outputId": "a240b7cb-9325-4c8e-8832-421bf6a5c074",
    "colab": {
     "base_uri": "https://localhost:8080/",
     "height": 664
    }
   },
   "source": [
    "history = model.fit(X_t,y, batch_size=128, epochs=12, validation_data=(X_valid, y_valid), callbacks=[early_stopping])\n",
    "show_history(history)"
   ],
   "execution_count": 0,
   "outputs": [
    {
     "output_type": "stream",
     "text": [
      "Epoch 1/12\n",
      "7813/7813 [==============================] - 153s 20ms/step - loss: 0.2097 - accuracy: 0.9156 - val_loss: 0.1739 - val_accuracy: 0.9331\n",
      "Epoch 2/12\n",
      "7813/7813 [==============================] - 152s 19ms/step - loss: 0.1698 - accuracy: 0.9349 - val_loss: 0.1608 - val_accuracy: 0.9389\n",
      "Epoch 3/12\n",
      "7813/7813 [==============================] - 152s 19ms/step - loss: 0.1565 - accuracy: 0.9407 - val_loss: 0.1600 - val_accuracy: 0.9395\n",
      "Epoch 4/12\n",
      "7813/7813 [==============================] - 153s 20ms/step - loss: 0.1475 - accuracy: 0.9447 - val_loss: 0.1576 - val_accuracy: 0.9405\n",
      "Epoch 5/12\n",
      "7813/7813 [==============================] - 152s 20ms/step - loss: 0.1401 - accuracy: 0.9477 - val_loss: 0.1606 - val_accuracy: 0.9400\n",
      "Epoch 6/12\n",
      "7813/7813 [==============================] - 152s 19ms/step - loss: 0.1342 - accuracy: 0.9500 - val_loss: 0.1568 - val_accuracy: 0.9405\n",
      "Epoch 7/12\n",
      "7813/7813 [==============================] - 152s 19ms/step - loss: 0.1287 - accuracy: 0.9522 - val_loss: 0.1590 - val_accuracy: 0.9406\n",
      "Epoch 8/12\n",
      "7813/7813 [==============================] - 151s 19ms/step - loss: 0.1249 - accuracy: 0.9539 - val_loss: 0.1653 - val_accuracy: 0.9382\n",
      "Epoch 9/12\n",
      "7813/7813 [==============================] - ETA: 0s - loss: 0.1209 - accuracy: 0.9553Restoring model weights from the end of the best epoch.\n",
      "7813/7813 [==============================] - 151s 19ms/step - loss: 0.1209 - accuracy: 0.9553 - val_loss: 0.1601 - val_accuracy: 0.9404\n",
      "Epoch 00009: early stopping\n"
     ],
     "name": "stdout"
    },
    {
     "output_type": "display_data",
     "data": {
      "image/png": "[encoded data removed]",
      "text/plain": [
       "<Figure size 432x288 with 1 Axes>"
      ]
     },
     "metadata": {
      "tags": [],
      "needs_background": "light"
     }
    }
   ]
  },
  {
   "cell_type": "code",
   "metadata": {
    "id": "a2HDAcivqaGU",
    "colab_type": "code",
    "outputId": "abe5c4f5-97d5-4be2-e381-9d4d819d5431",
    "colab": {
     "base_uri": "https://localhost:8080/",
     "height": 54
    },
    "pycharm": {
     "name": "#%%\n"
    }
   },
   "source": [
    "test_loss, test_acc = model.evaluate(X_test, y_test)\n",
    "print('Test accuracy: ', test_acc)"
   ],
   "execution_count": 0,
   "outputs": [
    {
     "output_type": "stream",
     "text": [
      "12500/12500 [==============================] - 45s 4ms/step - loss: 0.1593 - accuracy: 0.9395\n",
      "Test accuracy:  0.939520001411438\n"
     ],
     "name": "stdout"
    }
   ]
  }
 ]
}